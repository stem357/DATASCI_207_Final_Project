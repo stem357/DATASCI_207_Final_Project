{
 "cells": [
  {
   "cell_type": "markdown",
   "id": "1f532a91-af04-4b84-a68e-2298e58418e5",
   "metadata": {},
   "source": [
    "## EfficientNet Model"
   ]
  },
  {
   "cell_type": "markdown",
   "id": "fa65977d-7af3-42f8-a1be-2cfbe1800507",
   "metadata": {},
   "source": [
    "EfficientNet is a CNN that uses the concept of compound scaling to scale the image width, depth and resolution in a balanced manner to create a well performing yet efficient model given these three components.\n",
    "\n",
    "Traditional CNN's choose one of the these dimmensions to scale on, while EfficientNet was designed to scale all three of these dimensions simultaneously using what's referred to as a compound coefficient. This was eloquently described in a medium article by saying, \"Instead of randomly scaling up width, depth or resolution, compound scaling uniformly scales each dimension with a certain fixed set of scaling coefficients.\" (Source 2)\n",
    "\n",
    "EfficientNet scales the width, depth and resolution using the compound coefficient to balance these three which allows the model to perform better and more efficiently. \n",
    "\n",
    "EfficientNet comes in different variants that vary in size, performance and number of parameters. EfficientNetB0 is considered to be the baseline model for EfficientNet and can scale all the way up to B7 which would be the largest and most complex model. EfficentNet Models:  B0, B1, B2, B3, B4, B5, B6, B7"
   ]
  },
  {
   "cell_type": "markdown",
   "id": "f94c07b7-7af8-47e9-b92b-5c9ebceb5bb5",
   "metadata": {},
   "source": [
    "##### Import Libraries"
   ]
  },
  {
   "cell_type": "code",
   "execution_count": 1,
   "id": "eef19c4d-8c61-46a5-bc5b-8890cebc3bbc",
   "metadata": {},
   "outputs": [],
   "source": [
    "## Import the libraries\n",
    "%reset -f\n",
    "from __future__ import print_function\n",
    "\n",
    "import math\n",
    "import seaborn as sns\n",
    "import numpy as np\n",
    "import numpy.linalg as nla\n",
    "import pandas as pd\n",
    "import re\n",
    "import six\n",
    "from os.path import join\n",
    "import tensorflow as tf\n",
    "from matplotlib import pyplot as plt\n",
    "from sklearn.model_selection import train_test_split\n",
    "from keras_tuner import HyperParameters\n",
    "from sklearn.metrics import accuracy_score\n",
    "from tensorflow.keras.models import Sequential\n",
    "from tensorflow.keras.layers import Dense\n",
    "from tensorflow.keras.optimizers import SGD\n",
    "import os\n",
    "import glob\n",
    "from tensorflow.data.experimental import load\n",
    "import warnings\n",
    "warnings.filterwarnings('ignore')"
   ]
  },
  {
   "cell_type": "markdown",
   "id": "f4f902d1-0d36-47f4-8eca-a921f069e020",
   "metadata": {},
   "source": [
    "Note: There are some modifications in the paths and references to the imagenet dataset between this notebook and the ones published on Kaggle.\n",
    "\n",
    "These notebooks will likely run very slowly due to the size of the datasets and because we were able to use GPU accelerators provided through Kaggle. \n",
    "\n",
    "Please restart the kernel and re-run pre-processing for each model as they may each have slightly different data augmentation/pre-processing and may intake different image dimmensions that need to be specified."
   ]
  },
  {
   "cell_type": "markdown",
   "id": "698961cc-ae3c-4ee7-827b-cfda160e4223",
   "metadata": {},
   "source": [
    "## EfficientNet B0 Baseline Model"
   ]
  },
  {
   "cell_type": "markdown",
   "id": "0c9b810b-579d-49b2-a210-b50b0dcc58bd",
   "metadata": {},
   "source": [
    "We'll start by creating a baseline for our EfficientNet model by using the EfficientNetB0 baseline which will take an input of 224x224.\n",
    "\n",
    "Features of our baseline:\n",
    "EfficientNet models are often trained using the imagenet data which is why we pass in imagenet as the weights. The model will use transfer learning by using the pretrained imagenet weights.\n",
    "EfficientNetB0 takes an input shape of 224x224x3 which is what we've standardized the data to.\n",
    "\n",
    "We pass average as the pooling method in our baseline model which takes the average value of pixels in a region, lowers the number of parameters in our model and lowers the computation time. Since our data has humans, butterflies, machines and other features using an average pooling may help our model reduce noise in the images.\n",
    "\n",
    "You can find the Kaggle notebook here: https://www.kaggle.com/code/emilylieske/efficientnetb0-baseline\n",
    "\n",
    "Kaggle F1 score: 0.85063"
   ]
  },
  {
   "cell_type": "markdown",
   "id": "5fbd3001-efbb-4465-91d3-fc61787d4fc5",
   "metadata": {},
   "source": [
    "#### Data Preparation and Necessary Pre-Processing"
   ]
  },
  {
   "cell_type": "markdown",
   "id": "a15e1112-418a-4863-8097-bfcccaefbeea",
   "metadata": {},
   "source": [
    "###### Function to decode and normalize the images and standardize to RGB"
   ]
  },
  {
   "cell_type": "code",
   "execution_count": 2,
   "id": "546d2e90-0f99-4595-88ef-73f738c501b0",
   "metadata": {},
   "outputs": [],
   "source": [
    "## Function to decode and normalize the images and standardize to RGB\n",
    "image_size = [224,224]\n",
    "\n",
    "def decode_image(image_data):\n",
    "    \"\"\"Function to decode the image from the .tfrec\"\"\"\n",
    "    ## Converts the raw JPEG file bytes into a 3D tensor, channels=3  indicates RGB, create the shape (height, width, 3), the output is a uint tensor with values 0-255\n",
    "    image = tf.image.decode_jpeg(image_data, channels=3)\n",
    "    \n",
    "    ## Resize all images to the image size specified above [512,512], using bilinear method to smooth the images for efficient processing\n",
    "    image = tf.image.resize(image, image_size, method = \"bilinear\")\n",
    "    \n",
    "    ## Converts the uint to float32, then normalizes the inputs by dividing by the number of pixel values 255\n",
    "    ## Commented out for EfficientNet model because it already has a rescaling layer in the model\n",
    "    image = tf.cast(image, tf.float32) \n",
    "    \n",
    "    ## Takes the image size defined above this function and reshapes it to be the image size [height, width, 3]\n",
    "    image = tf.reshape(image, [*image_size,3])\n",
    "    return image"
   ]
  },
  {
   "cell_type": "markdown",
   "id": "ba4fa07f-c23d-42eb-bb2d-95421508921f",
   "metadata": {},
   "source": [
    "###### Function to Load the Datasets"
   ]
  },
  {
   "cell_type": "code",
   "execution_count": 3,
   "id": "5feefe70-12ac-4582-8e56-6b74e7e0033d",
   "metadata": {},
   "outputs": [],
   "source": [
    "## Function to load the datasets\n",
    "def load_dataset(filenames, labeled=True):\n",
    "    \"\"\"Load TFRecord dataset from filenames\"\"\"\n",
    "    ## Creates a dataset that reads the files, AUTOTUNE processes them simultneously and TF optimizes the number of readers\n",
    "    ## Creates a dataset of the raw binary .tfrec examples\n",
    "    dataset = tf.data.TFRecordDataset(filenames, num_parallel_reads=tf.data.AUTOTUNE)\n",
    "\n",
    "    ## dataset.map applies the read_labeled_tfrec function to each example, AUTOTUNE processes them simultneously and TF optimizes the number of readers\n",
    "    ## Transforms the raw data to (image_tensor, label_int) pairs\n",
    "    if labeled:\n",
    "        dataset = dataset.map(read_labeled_tfrec, num_parallel_calls=tf.data.AUTOTUNE)\n",
    "    else:\n",
    "        dataset = dataset.map(read_unlabeled_tfrec, num_parallel_calls=tf.data.AUTOTUNE)       \n",
    "    return dataset"
   ]
  },
  {
   "cell_type": "markdown",
   "id": "b6b6775c-4032-4f8d-b2e3-288c6356e886",
   "metadata": {},
   "source": [
    "###### Function to return an image, label pair for the training and validation sets"
   ]
  },
  {
   "cell_type": "code",
   "execution_count": 4,
   "id": "510b5792-53c3-4a71-b4d0-7444ea9bbd83",
   "metadata": {},
   "outputs": [],
   "source": [
    "## Function to return an image, label pair for the training and validation sets\n",
    "def read_labeled_tfrec(input_example):\n",
    "    \"\"\"Read and parse the labeled .tfrec\"\"\"\n",
    "    ## Tells Tensorflow how to interpret the binary .tfrec data, \"image\" tells TF to expect binary jppeg bytes, \"class\" tells TF to expect integer labels (the flower labels)\n",
    "    labeled_tfrec_format = { \n",
    "        \"image\": tf.io.FixedLenFeature([], tf.string),\n",
    "        \"class\": tf.io.FixedLenFeature([], tf.int64)\n",
    "    }\n",
    "    ## Parses the input_example using the format specified above\n",
    "    ## Takes raw binary data (input_example) and uses the labeled_tfrec_format to return a dictionary {image bytes, flower label}\n",
    "    input_example = tf.io.parse_single_example(input_example, labeled_tfrec_format)\n",
    "    \n",
    "    ## Process the image - Takes the JPEG bytes from the example image, and normalizes them to a [512,512,3] tensor using the decode_image function\n",
    "    image = decode_image(input_example[\"image\"])\n",
    "    \n",
    "    ## Process the label - input_example['class'] is the flower class ID\n",
    "    label = tf.cast(input_example['class'], tf.int32)\n",
    "    return image, label"
   ]
  },
  {
   "cell_type": "markdown",
   "id": "59917178-24ff-4105-be0c-2cb00067a7e1",
   "metadata": {},
   "source": [
    "###### Function to return an image without labels for the test set"
   ]
  },
  {
   "cell_type": "code",
   "execution_count": 5,
   "id": "63179d8b-5139-43fc-99ca-6ef4b52b581e",
   "metadata": {},
   "outputs": [],
   "source": [
    "## Function to return an image without labels for the test set\n",
    "def read_unlabeled_tfrec(input_example):\n",
    "    \"\"\"Read and parse the unlabeled .tfrec\"\"\"\n",
    "    unlabeled_tfrec_format = { \n",
    "        \"image\": tf.io.FixedLenFeature([], tf.string),\n",
    "        \"id\": tf.io.FixedLenFeature([], tf.string)\n",
    "    }    \n",
    "    input_example = tf.io.parse_single_example(input_example, unlabeled_tfrec_format)\n",
    "    \n",
    "    ## Process the image - Takes the JPEG bytes from the example image, and normalizes them to a [512,512,3] tensor using the decode_image function\n",
    "    image = decode_image(input_example[\"image\"])\n",
    "    \n",
    "    ## Process the label - input_example['id'] is the image ID\n",
    "    image_id = input_example['id']\n",
    "    return image, image_id"
   ]
  },
  {
   "cell_type": "markdown",
   "id": "8e1ff664-4164-4bd3-adc6-25eef6fae89a",
   "metadata": {},
   "source": [
    "###### Create the training, validation and test sets using only one of the provided image dimmensions"
   ]
  },
  {
   "cell_type": "code",
   "execution_count": 6,
   "id": "fca07655-8760-4d24-8b63-f345439dc854",
   "metadata": {},
   "outputs": [],
   "source": [
    "## Get filenames for 224x224 images only\n",
    "folder = 'tfrecords-jpeg-224x224'\n",
    "train_files = tf.io.gfile.glob(f\"./tpu-getting-started/{folder}/train/*.tfrec\")\n",
    "val_files = tf.io.gfile.glob(f\"./tpu-getting-started/{folder}/val/*.tfrec\")\n",
    "test_files = tf.io.gfile.glob(f\"./tpu-getting-started/{folder}/test/*.tfrec\")\n",
    "\n",
    "## Create train, validation and test data set\n",
    "train_dataset = load_dataset(train_files, labeled=True)\n",
    "validation_dataset = load_dataset(val_files, labeled=True)\n",
    "test_dataset = load_dataset(test_files, labeled=False)"
   ]
  },
  {
   "cell_type": "markdown",
   "id": "f8526b12-8274-4ea0-9806-0503a4dea5ea",
   "metadata": {},
   "source": [
    "###### Shuffling the training and validation sets"
   ]
  },
  {
   "cell_type": "code",
   "execution_count": 7,
   "id": "040feeab-dc10-4c7a-b8ac-6fd1e70ff3e5",
   "metadata": {},
   "outputs": [],
   "source": [
    "## Shuffling the training and validation sets\n",
    "\n",
    "## Sets random seed for reproducability\n",
    "tf.random.set_seed(42)\n",
    "\n",
    "## Set shuffle buffer to set how many are shuffled at once\n",
    "shuffle_buffer = 500\n",
    "\n",
    "## Shuffle the training set\n",
    "train_dataset = train_dataset.shuffle(shuffle_buffer, seed=42, reshuffle_each_iteration=False)\n",
    "\n",
    "## Shuffle the validation set\n",
    "validation_dataset = validation_dataset.shuffle(shuffle_buffer, seed=42, reshuffle_each_iteration=False)\n",
    "\n",
    "## No shuffling of test data as it's not needed"
   ]
  },
  {
   "cell_type": "markdown",
   "id": "eb79ffb9-9354-43dd-8317-d11f82b1f5e5",
   "metadata": {},
   "source": [
    "###### Set batch size and group data sets"
   ]
  },
  {
   "cell_type": "code",
   "execution_count": 8,
   "id": "8eddad4c-0639-4581-8413-0b1f526b990c",
   "metadata": {},
   "outputs": [],
   "source": [
    "## Set hyperparameters\n",
    "## Sets the batch to 32 as the number of images to be processed at a time durin one forward/backward pass through the model, 32 is a default\n",
    "## Larger batches take more memory and are more stable but if they batch is too large the model may generalize poorly\n",
    "BATCH_SIZE = 32\n",
    "## Tensorflow optimization that automatically determines the most optimal number of parallel processes\n",
    "AUTO = tf.data.AUTOTUNE\n",
    "## Sets the number of classes to the number of flower categories\n",
    "NUM_CLASSES = 104\n",
    "\n",
    "## Prepare the datasets for training by grouping a batch based on the size set above, and pre-fetches the next batch while the current batch is being processed\n",
    "train_dataset = train_dataset.batch(BATCH_SIZE).prefetch(AUTO)\n",
    "validation_dataset = validation_dataset.batch(BATCH_SIZE).prefetch(AUTO)\n",
    "test_dataset = test_dataset.batch(BATCH_SIZE).prefetch(AUTO)"
   ]
  },
  {
   "cell_type": "markdown",
   "id": "1f24d2dc-295c-4b94-b0b4-6b7995b3764d",
   "metadata": {},
   "source": [
    "###### Create and compile the model"
   ]
  },
  {
   "cell_type": "code",
   "execution_count": 9,
   "id": "63e0dc4e-4f28-42a0-98c3-a06c62eaa1ef",
   "metadata": {},
   "outputs": [],
   "source": [
    "def create_model():\n",
    "    ## Load the pretrained EfficientNetB0 model\n",
    "    ## Set include_top to false to remove the 1000 pre-set image net classification layers because we want to use the 104 flower classification labels\n",
    "    ## Set weights to use pretrained ImageNet weights through ImageNet transfer learning\n",
    "    ## Set the model to expect inputs with the shape (224, 224, 3)\n",
    "    ## Sets the pooling to average to help reduce the number of parameters\n",
    "    base_model = tf.keras.applications.EfficientNetB0(\n",
    "        include_top=False,\n",
    "        weights='imagenet', \n",
    "        input_shape=(224, 224, 3),\n",
    "        pooling='avg'\n",
    "    )\n",
    "    \n",
    "    ## Freeze the pretrained weights - sets all layers in the base model not to be trainable\n",
    "    ## This preserves the useful features learned by ImageNet, prevents changing the pre-trained imagenet weights, reduces training time and combats overfitting\n",
    "    base_model.trainable = False\n",
    "    \n",
    "    ## Create the model\n",
    "    ## Set .Dropout() to help regualrize the model and prevent overfitting, essentially say to leave out 20% of the neurons in training\n",
    "    ## Pass NUM_CLASSES to specify the number of output to be 104 flower classes, activation softmax indicates all outputs should sum to 1, output represents probability it is that flower\n",
    "    model = tf.keras.Sequential([\n",
    "        base_model,\n",
    "        ## Add dropout layer with .3 dropout\n",
    "        tf.keras.layers.Dropout(0.3),\n",
    "        ## Add dense layer\n",
    "        tf.keras.layers.Dense(256, activation='relu'),\n",
    "        ## Add another dropout layer with .2 dropout\n",
    "        tf.keras.layers.Dropout(0.2),\n",
    "        ## This is the output layer\n",
    "        tf.keras.layers.Dense(NUM_CLASSES, activation='softmax')\n",
    "    ])\n",
    "    \n",
    "    return model\n",
    "\n",
    "## Create and compile the model\n",
    "## Use the adam optimizer for efficiency and ability to adapt learning rates, sets the learning rate of the optimizer\n",
    "## Loss is sparse (meaning not one-hot encoded but numerical 0-103, categorical_crossentropy is used for multiclass clasification\n",
    "## Metrics track the accuracy\n",
    "model = create_model()\n",
    "model.compile(\n",
    "    optimizer=tf.keras.optimizers.Adam(learning_rate=5e-4),\n",
    "    loss='sparse_categorical_crossentropy', \n",
    "    metrics=['accuracy']\n",
    ")"
   ]
  },
  {
   "cell_type": "markdown",
   "id": "857bb7a8-fd12-4e18-840f-ad26159fcc09",
   "metadata": {},
   "source": [
    "###### Set training parameters, epochs and callbacks"
   ]
  },
  {
   "cell_type": "code",
   "execution_count": 10,
   "id": "1490192c-92e4-459d-bfd9-0201826b8ed8",
   "metadata": {},
   "outputs": [
    {
     "name": "stdout",
     "output_type": "stream",
     "text": [
      "Epoch 1/10\n"
     ]
    },
    {
     "name": "stderr",
     "output_type": "stream",
     "text": [
      "2025-07-28 12:32:54.057532: I tensorflow/core/kernels/data/tf_record_dataset_op.cc:381] TFRecordDataset `buffer_size` is unspecified, default to 262144\n"
     ]
    },
    {
     "name": "stdout",
     "output_type": "stream",
     "text": [
      "    399/Unknown \u001b[1m166s\u001b[0m 408ms/step - accuracy: 0.3247 - loss: 3.1304"
     ]
    },
    {
     "name": "stderr",
     "output_type": "stream",
     "text": [
      "2025-07-28 12:35:37.198878: I tensorflow/core/framework/local_rendezvous.cc:407] Local rendezvous is aborting with status: OUT_OF_RANGE: End of sequence\n",
      "\t [[{{node IteratorGetNext}}]]\n"
     ]
    },
    {
     "name": "stdout",
     "output_type": "stream",
     "text": [
      "\u001b[1m399/399\u001b[0m \u001b[32m━━━━━━━━━━━━━━━━━━━━\u001b[0m\u001b[37m\u001b[0m \u001b[1m214s\u001b[0m 529ms/step - accuracy: 0.3250 - loss: 3.1283 - val_accuracy: 0.7301 - val_loss: 1.1259 - learning_rate: 5.0000e-04\n",
      "Epoch 2/10\n"
     ]
    },
    {
     "name": "stderr",
     "output_type": "stream",
     "text": [
      "2025-07-28 12:36:25.224658: I tensorflow/core/framework/local_rendezvous.cc:407] Local rendezvous is aborting with status: OUT_OF_RANGE: End of sequence\n",
      "\t [[{{node IteratorGetNext}}]]\n"
     ]
    },
    {
     "name": "stdout",
     "output_type": "stream",
     "text": [
      "\u001b[1m399/399\u001b[0m \u001b[32m━━━━━━━━━━━━━━━━━━━━\u001b[0m\u001b[37m\u001b[0m \u001b[1m240s\u001b[0m 601ms/step - accuracy: 0.6916 - loss: 1.2133 - val_accuracy: 0.8077 - val_loss: 0.7774 - learning_rate: 5.0000e-04\n",
      "Epoch 3/10\n"
     ]
    },
    {
     "name": "stderr",
     "output_type": "stream",
     "text": [
      "2025-07-28 12:40:25.020886: I tensorflow/core/framework/local_rendezvous.cc:407] Local rendezvous is aborting with status: OUT_OF_RANGE: End of sequence\n",
      "\t [[{{node IteratorGetNext}}]]\n"
     ]
    },
    {
     "name": "stdout",
     "output_type": "stream",
     "text": [
      "\u001b[1m399/399\u001b[0m \u001b[32m━━━━━━━━━━━━━━━━━━━━\u001b[0m\u001b[37m\u001b[0m \u001b[1m243s\u001b[0m 610ms/step - accuracy: 0.7683 - loss: 0.8673 - val_accuracy: 0.8303 - val_loss: 0.6705 - learning_rate: 5.0000e-04\n",
      "Epoch 4/10\n",
      "\u001b[1m399/399\u001b[0m \u001b[32m━━━━━━━━━━━━━━━━━━━━\u001b[0m\u001b[37m\u001b[0m \u001b[1m224s\u001b[0m 562ms/step - accuracy: 0.8048 - loss: 0.7189 - val_accuracy: 0.8381 - val_loss: 0.6127 - learning_rate: 5.0000e-04\n",
      "Epoch 5/10\n"
     ]
    },
    {
     "name": "stderr",
     "output_type": "stream",
     "text": [
      "2025-07-28 12:48:12.613299: I tensorflow/core/framework/local_rendezvous.cc:407] Local rendezvous is aborting with status: OUT_OF_RANGE: End of sequence\n",
      "\t [[{{node IteratorGetNext}}]]\n"
     ]
    },
    {
     "name": "stdout",
     "output_type": "stream",
     "text": [
      "\u001b[1m399/399\u001b[0m \u001b[32m━━━━━━━━━━━━━━━━━━━━\u001b[0m\u001b[37m\u001b[0m \u001b[1m221s\u001b[0m 554ms/step - accuracy: 0.8314 - loss: 0.6261 - val_accuracy: 0.8464 - val_loss: 0.5669 - learning_rate: 5.0000e-04\n",
      "Epoch 6/10\n",
      "\u001b[1m399/399\u001b[0m \u001b[32m━━━━━━━━━━━━━━━━━━━━\u001b[0m\u001b[37m\u001b[0m \u001b[1m224s\u001b[0m 563ms/step - accuracy: 0.8461 - loss: 0.5488 - val_accuracy: 0.8524 - val_loss: 0.5425 - learning_rate: 5.0000e-04\n",
      "Epoch 7/10\n",
      "\u001b[1m399/399\u001b[0m \u001b[32m━━━━━━━━━━━━━━━━━━━━\u001b[0m\u001b[37m\u001b[0m \u001b[1m234s\u001b[0m 586ms/step - accuracy: 0.8635 - loss: 0.4998 - val_accuracy: 0.8602 - val_loss: 0.5194 - learning_rate: 5.0000e-04\n",
      "Epoch 8/10\n",
      "\u001b[1m399/399\u001b[0m \u001b[32m━━━━━━━━━━━━━━━━━━━━\u001b[0m\u001b[37m\u001b[0m \u001b[1m241s\u001b[0m 604ms/step - accuracy: 0.8707 - loss: 0.4586 - val_accuracy: 0.8629 - val_loss: 0.5073 - learning_rate: 5.0000e-04\n",
      "Epoch 9/10\n"
     ]
    },
    {
     "name": "stderr",
     "output_type": "stream",
     "text": [
      "2025-07-28 13:03:33.112646: I tensorflow/core/framework/local_rendezvous.cc:407] Local rendezvous is aborting with status: OUT_OF_RANGE: End of sequence\n",
      "\t [[{{node IteratorGetNext}}]]\n"
     ]
    },
    {
     "name": "stdout",
     "output_type": "stream",
     "text": [
      "\u001b[1m399/399\u001b[0m \u001b[32m━━━━━━━━━━━━━━━━━━━━\u001b[0m\u001b[37m\u001b[0m \u001b[1m236s\u001b[0m 591ms/step - accuracy: 0.8827 - loss: 0.4188 - val_accuracy: 0.8669 - val_loss: 0.4970 - learning_rate: 5.0000e-04\n",
      "Epoch 10/10\n",
      "\u001b[1m399/399\u001b[0m \u001b[32m━━━━━━━━━━━━━━━━━━━━\u001b[0m\u001b[37m\u001b[0m \u001b[1m258s\u001b[0m 646ms/step - accuracy: 0.8808 - loss: 0.4029 - val_accuracy: 0.8650 - val_loss: 0.4980 - learning_rate: 5.0000e-04\n"
     ]
    }
   ],
   "source": [
    "## Set training parameters\n",
    "## Sets epochs\n",
    "EPOCHS = 10\n",
    "\n",
    "## EarlyStopping - Add callback to monitor the validation loss and stop training after 3 epochs if the loss stops improving and reverts the weights back to where the model was still improving and had converged, this helps prevent overfitting\n",
    "##ReduceLROnPlateau - Add callback to monitor the validation loss and reduce the learning rate once performance starts to palteau, factor says multiply the learning rate by this value, patience say wait two epochs before reducing again, min_lr says don't go below this learning rate\n",
    "callbacks = [\n",
    "    tf.keras.callbacks.EarlyStopping(\n",
    "        monitor='val_loss',\n",
    "        patience=3,\n",
    "        restore_best_weights=True\n",
    "    ),\n",
    "    tf.keras.callbacks.ReduceLROnPlateau(\n",
    "        monitor='val_loss',\n",
    "        factor=0.2,\n",
    "        patience=2,\n",
    "        min_lr=1e-6\n",
    "    )\n",
    "]\n",
    "\n",
    "## Train the model using the train_dataset, number of epochs, specifying the validation set as validation_dataset, and point to the callback defined above\n",
    "history = model.fit(\n",
    "    train_dataset,\n",
    "    epochs=EPOCHS,\n",
    "    validation_data=validation_dataset,\n",
    "    callbacks=callbacks\n",
    ")"
   ]
  },
  {
   "cell_type": "markdown",
   "id": "909232af-8880-41de-b512-c5582683755b",
   "metadata": {},
   "source": [
    "###### Plot the training history"
   ]
  },
  {
   "cell_type": "code",
   "execution_count": 11,
   "id": "47e35c19-42e3-470b-8d82-f56df10d7244",
   "metadata": {},
   "outputs": [
    {
     "data": {
      "image/png": "[encoded data removed]",
      "text/plain": [
       "<Figure size 1200x400 with 2 Axes>"
      ]
     },
     "metadata": {},
     "output_type": "display_data"
    }
   ],
   "source": [
    "## Plot the training history\n",
    "def plot_training_history(history):\n",
    "    fig, (ax1, ax2) = plt.subplots(1, 2, figsize=(12, 4))\n",
    "    \n",
    "    ## Plot the accuracy\n",
    "    ax1.plot(history.history['accuracy'], label='Training')\n",
    "    ax1.plot(history.history['val_accuracy'], label='Validation')\n",
    "    ax1.set_title('Model Accuracy')\n",
    "    ax1.set_xlabel('Epoch')\n",
    "    ax1.set_ylabel('Accuracy')\n",
    "    ax1.legend()\n",
    "    \n",
    "    ## Plot the loss\n",
    "    ax2.plot(history.history['loss'], label='Training')\n",
    "    ax2.plot(history.history['val_loss'], label='Validation')\n",
    "    ax2.set_title('Model Loss')\n",
    "    ax2.set_xlabel('Epoch')\n",
    "    ax2.set_ylabel('Loss')\n",
    "    ax2.legend()\n",
    "    \n",
    "    plt.tight_layout()\n",
    "    plt.show()\n",
    "\n",
    "## Show the training results\n",
    "plot_training_history(history)"
   ]
  },
  {
   "cell_type": "markdown",
   "id": "eaa83239-e922-46fe-8b8d-9086e40dc813",
   "metadata": {},
   "source": [
    "###### Function to assemble the models class predictions"
   ]
  },
  {
   "cell_type": "code",
   "execution_count": null,
   "id": "db6c3032-1d0c-4265-b2f6-aec14960284b",
   "metadata": {},
   "outputs": [],
   "source": [
    "## Function to assemble the models class predictions\n",
    "def get_predictions():\n",
    "    image_ids = []\n",
    "    predictions = []\n",
    "    \n",
    "    print(\"Getting predictions for test set...\")\n",
    "    batch_count = 0\n",
    "    \n",
    "    # Get predictions for test set (now properly batched)\n",
    "    for batch_images, batch_image_names in test_dataset:\n",
    "        batch_count += 1\n",
    "        print(f\"Processing batch {batch_count}, batch shape: {batch_images.shape}\")\n",
    "        \n",
    "        # Get predictions for this batch\n",
    "        pred = model.predict(batch_images, verbose=0)\n",
    "        pred_labels = tf.argmax(pred, axis=1)\n",
    "        \n",
    "        # Convert tensor to numpy for easier handling\n",
    "        batch_image_names = batch_image_names.numpy()\n",
    "        pred_labels = pred_labels.numpy()\n",
    "        \n",
    "        # Extend our lists\n",
    "        image_ids.extend([name.decode('utf-8') for name in batch_image_names])\n",
    "        predictions.extend(pred_labels)\n",
    "    \n",
    "    print(f\"Total predictions made: {len(predictions)}\")\n",
    "    return image_ids, predictions"
   ]
  },
  {
   "cell_type": "markdown",
   "id": "37620e35-510f-4488-823e-608cb8744b48",
   "metadata": {},
   "source": [
    "###### Function to create the submission"
   ]
  },
  {
   "cell_type": "code",
   "execution_count": null,
   "id": "5f06d574-28aa-4e16-b335-ae1bc562f79f",
   "metadata": {},
   "outputs": [],
   "source": [
    "def create_submission():\n",
    "    # Get predictions\n",
    "    image_ids, predictions = get_predictions()\n",
    "    \n",
    "    # Create submission DataFrame\n",
    "    submission_df = pd.DataFrame({\n",
    "        'id': image_ids,\n",
    "        'label': predictions\n",
    "    })\n",
    "    \n",
    "    # Save submission file\n",
    "    submission_df.to_csv('submission.csv', index=False)\n",
    "    print(\"Submission file created!\")\n",
    "    \n",
    "# Create submission after training\n",
    "create_submission()"
   ]
  },
  {
   "cell_type": "markdown",
   "id": "3bc1383f-0496-461b-b6df-75a33ab4cc6d",
   "metadata": {},
   "source": [
    "## EfficientNet B0 - Data Balanced and Hyperparameter Tuned"
   ]
  },
  {
   "cell_type": "markdown",
   "id": "c93c834a-31cd-41ed-a05f-59f4d804e362",
   "metadata": {},
   "source": [
    "To improve from our baseline model we augmented and created new data for all classes that had under 25 samples by applying a moderate random rotation, brightness and zoom along with a random flip across the horizontal (horizontal and vertical flips appeared to be problematic for the flower data since some flower images have an inherent vertical position if taken from a profile view.)\n",
    "\n",
    "In order to help out model learn more robust features while preventing overfitting, we utilized a single dense layer with 256 neurons with two dropout layers of .3 and .2.\n",
    "\n",
    "Additionally, since EfficientNet uses transfer learning from Imagenet, we froze only the bottom layers of the model to preserve some of the general pre-trained features from Imagenet.\n",
    "\n",
    "These updates helped to improve the overall F1 score and this combination of hyperparameter tuning and specific data augmentation produced the highest results for the EfficientNet Model.\n",
    "\n",
    "Other changes:\n",
    "- Reduced the shuffle buffer from 500 to 200 for better handling of memory constraints\n",
    "- Increased the batch size to 64 to speed up training and process in parallel while processing on Kaggle's GPU's\n",
    "\n",
    "You can find the Kaggle notebook here: https://www.kaggle.com/code/emilylieske/efficientnetb0-data-balanced-parameter-tuned\n",
    "\n",
    "Kaggle score: 0.90481"
   ]
  },
  {
   "cell_type": "markdown",
   "id": "ee815a6a-bcdb-4d77-a43b-3fedfb1e6c72",
   "metadata": {},
   "source": [
    "#### Data Preparation and Necessary Pre-Processing"
   ]
  },
  {
   "cell_type": "markdown",
   "id": "ef5d6fc3-6f5d-44c0-bcbd-9d94d2daa1f8",
   "metadata": {},
   "source": [
    "###### Function to decode and normalize the images and standardize to RGB"
   ]
  },
  {
   "cell_type": "code",
   "execution_count": 2,
   "id": "e642ec62-a363-4c46-9ac5-711decbf5609",
   "metadata": {},
   "outputs": [],
   "source": [
    "## Function to decode and normalize the images and standardize to RGB\n",
    "image_size = [224,224]\n",
    "\n",
    "def decode_image(image_data):\n",
    "    \"\"\"Function to decode the image from the .tfrec\"\"\"\n",
    "    ## Converts the raw JPEG file bytes into a 3D tensor, channels=3  indicates RGB, create the shape (height, width, 3), the output is a uint tensor with values 0-255\n",
    "    image = tf.image.decode_jpeg(image_data, channels=3)\n",
    "    \n",
    "    ## Resize all images to the image size specified above [224,224], using bilinear method to smooth the images for efficient processing\n",
    "    image = tf.image.resize(image, image_size, method = \"bilinear\")\n",
    "    \n",
    "    ## Converts the uint to float32, no further standardization for EfficientNet model because it already has a rescaling layer in the model\n",
    "    image = tf.cast(image, tf.float32) \n",
    "    \n",
    "    ## Takes the image size defined above this function and reshapes it to be the image size [height, width, 3]\n",
    "    image = tf.reshape(image, [*image_size,3])\n",
    "    return image"
   ]
  },
  {
   "cell_type": "markdown",
   "id": "f24a75dd-8e4c-494e-a24e-4850774fafae",
   "metadata": {},
   "source": [
    "###### Function to Load the Datasets"
   ]
  },
  {
   "cell_type": "code",
   "execution_count": 3,
   "id": "e0e6edb5-563f-4130-9564-679596312541",
   "metadata": {},
   "outputs": [],
   "source": [
    "## Function to load the datasets\n",
    "def load_dataset(filenames, labeled=True):\n",
    "    \"\"\"Load TFRecord dataset from filenames\"\"\"\n",
    "    ## Creates a dataset that reads the files, AUTOTUNE processes them simultneously and TF optimizes the number of readers\n",
    "    ## Creates a dataset of the raw binary .tfrec examples\n",
    "    dataset = tf.data.TFRecordDataset(filenames, num_parallel_reads=tf.data.AUTOTUNE)\n",
    "\n",
    "    ## dataset.map applies the read_labeled_tfrec function to each example, AUTOTUNE processes them simultneously and TF optimizes the number of readers\n",
    "    ## Transforms the raw data to (image_tensor, label_int) pairs\n",
    "    if labeled:\n",
    "        dataset = dataset.map(read_labeled_tfrec, num_parallel_calls=tf.data.AUTOTUNE)\n",
    "    else:\n",
    "        dataset = dataset.map(read_unlabeled_tfrec, num_parallel_calls=tf.data.AUTOTUNE)       \n",
    "    return dataset"
   ]
  },
  {
   "cell_type": "markdown",
   "id": "c209ceab-325c-4852-b36f-2f59464a8204",
   "metadata": {},
   "source": [
    "###### Function to return an image, label pair for the training and validation sets"
   ]
  },
  {
   "cell_type": "code",
   "execution_count": 4,
   "id": "614a6d01-2027-4ffb-bbae-065300dcff77",
   "metadata": {},
   "outputs": [],
   "source": [
    "## Function to return an image, label pair for the training and validation sets\n",
    "def read_labeled_tfrec(input_example):\n",
    "    \"\"\"Read and parse the labeled .tfrec\"\"\"\n",
    "    ## Tells Tensorflow how to interpret the binary .tfrec data, \"image\" tells TF to expect binary jppeg bytes, \"class\" tells TF to expect integer labels (the flower labels)\n",
    "    labeled_tfrec_format = { \n",
    "        \"image\": tf.io.FixedLenFeature([], tf.string),\n",
    "        \"class\": tf.io.FixedLenFeature([], tf.int64)\n",
    "    }\n",
    "    ## Parses the input_example using the format specified above\n",
    "    ## Takes raw binary data (input_example) and uses the labeled_tfrec_format to return a dictionary {image bytes, flower label}\n",
    "    input_example = tf.io.parse_single_example(input_example, labeled_tfrec_format)\n",
    "    \n",
    "    ## Process the image - Takes the JPEG bytes from the example image, and normalizes them to a [512,512,3] tensor using the decode_image function\n",
    "    image = decode_image(input_example[\"image\"])\n",
    "    \n",
    "    ## Process the label - input_example['class'] is the flower class ID\n",
    "    label = tf.cast(input_example['class'], tf.int32)\n",
    "    return image, label"
   ]
  },
  {
   "cell_type": "markdown",
   "id": "3eac1e8e-8e9f-4cdb-8fa2-9384b0c9b3a3",
   "metadata": {},
   "source": [
    "###### Function to return an image without labels for the test set"
   ]
  },
  {
   "cell_type": "code",
   "execution_count": 5,
   "id": "b134b9aa-7965-46f5-ab69-4333f5c79fcb",
   "metadata": {},
   "outputs": [],
   "source": [
    "def read_unlabeled_tfrec(input_example):\n",
    "    \"\"\"Read and parse the unlabeled .tfrec\"\"\"\n",
    "    unlabeled_tfrec_format = { \n",
    "        \"image\": tf.io.FixedLenFeature([], tf.string),\n",
    "        \"id\": tf.io.FixedLenFeature([], tf.string)\n",
    "    }    \n",
    "    input_example = tf.io.parse_single_example(input_example, unlabeled_tfrec_format)\n",
    "    \n",
    "    ## Process the image - Takes the JPEG bytes from the example image, and normalizes them to a [512,512,3] tensor using the decode_image function\n",
    "    image = decode_image(input_example[\"image\"])\n",
    "    \n",
    "    ## Process the label - input_example['id'] is the image ID\n",
    "    image_id = input_example['id']\n",
    "    return image, image_id"
   ]
  },
  {
   "cell_type": "markdown",
   "id": "22531bd2-9596-4f4a-863f-6d95776cbfbd",
   "metadata": {},
   "source": [
    "###### Create the training, validation and test sets using only one of the provided image dimmensions"
   ]
  },
  {
   "cell_type": "code",
   "execution_count": 6,
   "id": "005b58b9-ad23-4bd0-b607-5b998d619f08",
   "metadata": {},
   "outputs": [],
   "source": [
    "## Get filenames for 224x224 images only\n",
    "folder = 'tfrecords-jpeg-224x224'\n",
    "train_files = tf.io.gfile.glob(f\"./tpu-getting-started/{folder}/train/*.tfrec\")\n",
    "val_files = tf.io.gfile.glob(f\"./tpu-getting-started/{folder}/val/*.tfrec\")\n",
    "test_files = tf.io.gfile.glob(f\"./tpu-getting-started/{folder}/test/*.tfrec\")\n",
    "\n",
    "## Create train, validation and test data set\n",
    "train_dataset = load_dataset(train_files, labeled=True)\n",
    "validation_dataset = load_dataset(val_files, labeled=True)\n",
    "test_dataset = load_dataset(test_files, labeled=False)"
   ]
  },
  {
   "cell_type": "markdown",
   "id": "0652152f-cf6a-4433-8999-9dc8b399639e",
   "metadata": {},
   "source": [
    "###### Function to create augmented data for the minority represented classes"
   ]
  },
  {
   "cell_type": "code",
   "execution_count": 7,
   "id": "2cfefdcf-0080-4f84-81b4-088e97f5a040",
   "metadata": {},
   "outputs": [
    {
     "name": "stderr",
     "output_type": "stream",
     "text": [
      "2025-07-28 13:24:46.403871: I tensorflow/core/kernels/data/tf_record_dataset_op.cc:381] TFRecordDataset `buffer_size` is unspecified, default to 262144\n",
      "2025-07-28 13:24:48.250524: I tensorflow/core/framework/local_rendezvous.cc:407] Local rendezvous is aborting with status: OUT_OF_RANGE: End of sequence\n"
     ]
    },
    {
     "name": "stdout",
     "output_type": "stream",
     "text": [
      "Boosting 16 minority classes\n"
     ]
    }
   ],
   "source": [
    "## Balance the dataset by creating augmented data only for the classes thathave less than the specified number of samples. \n",
    "def quick_balance(dataset, min_samples=25):\n",
    "    ## Count the classes\n",
    "    class_counts = {}\n",
    "    for _, label in dataset:\n",
    "        lbl = int(label.numpy())\n",
    "        class_counts[lbl] = class_counts.get(lbl, 0) + 1\n",
    "    \n",
    "    ## Find minority classes\n",
    "    minority_classes = [cls for cls, count in class_counts.items() if count < min_samples]\n",
    "    print(f\"Boosting {len(minority_classes)} minority classes\")\n",
    "    \n",
    "    \n",
    "    augmentation = tf.keras.Sequential([\n",
    "        tf.keras.layers.RandomFlip(\"horizontal\"),\n",
    "        tf.keras.layers.RandomRotation(0.1),\n",
    "        tf.keras.layers.RandomBrightness(0.1),\n",
    "        tf.keras.layers.RandomZoom(0.1)\n",
    "    ])\n",
    "\n",
    "    minority_data = dataset.filter(lambda img, lbl: tf.reduce_any(tf.equal(lbl, minority_classes)))\n",
    "    boosted_minorities = minority_data.map(lambda img, lbl: (augmentation(img, training=True), lbl)).repeat(3)\n",
    "\n",
    "    ## Concatenates the training data only with the minority classes augmented data\n",
    "    return dataset.concatenate(boosted_minorities).shuffle(10000)\n",
    "    \n",
    "## Apply balancing to training data only\n",
    "train_dataset = quick_balance(train_dataset, min_samples=25)\n",
    "## Keep validation dataset unchanged"
   ]
  },
  {
   "cell_type": "markdown",
   "id": "16fe0083-63e4-4cd7-ba7a-7087b142598b",
   "metadata": {},
   "source": [
    "###### Shuffling the training and validation sets"
   ]
  },
  {
   "cell_type": "code",
   "execution_count": 8,
   "id": "3ae22878-74bf-4883-ab76-2820faea2fa3",
   "metadata": {},
   "outputs": [],
   "source": [
    "## Shuffling the training and validation sets\n",
    "\n",
    "## Sets random seed for reproducability\n",
    "tf.random.set_seed(42)\n",
    "\n",
    "## Set shuffle buffer to set how many are shuffled at once\n",
    "shuffle_buffer = 500\n",
    "\n",
    "## Shuffle the training set\n",
    "train_dataset = train_dataset.shuffle(shuffle_buffer, seed=42, reshuffle_each_iteration=False)\n",
    "\n",
    "## Shuffle the validation set\n",
    "validation_dataset = validation_dataset.shuffle(shuffle_buffer, seed=42, reshuffle_each_iteration=False)\n",
    "\n",
    "## No shuffling of test data as it's not needed"
   ]
  },
  {
   "cell_type": "markdown",
   "id": "f87a381c-4479-4763-8262-927a2285c473",
   "metadata": {},
   "source": [
    "###### Set batch size and group data sets"
   ]
  },
  {
   "cell_type": "code",
   "execution_count": 9,
   "id": "712a2de1-95aa-4dc7-99f1-8cee8bde0a7c",
   "metadata": {},
   "outputs": [],
   "source": [
    "## Set hyperparameters\n",
    "## Sets the batch to 32 as the number of images to be processed at a time durin one forward/backward pass through the model, 32 is a default\n",
    "## Larger batches take more memory and are more stable but if they batch is too large the model may generalize poorly\n",
    "BATCH_SIZE = 32\n",
    "## Tensorflow optimization that automatically determines the most optimal number of parallel processes\n",
    "AUTO = tf.data.AUTOTUNE\n",
    "## Sets the number of classes to the number of flower categories\n",
    "NUM_CLASSES = 104\n",
    "\n",
    "## Prepare the datasets for training by grouping a batch based on the size set above, and pre-fetches the next batch while the current batch is being processed\n",
    "train_dataset = train_dataset.batch(BATCH_SIZE).prefetch(AUTO)\n",
    "validation_dataset = validation_dataset.batch(BATCH_SIZE).prefetch(AUTO)\n",
    "test_dataset = test_dataset.batch(BATCH_SIZE).prefetch(AUTO)"
   ]
  },
  {
   "cell_type": "markdown",
   "id": "02b50442-c804-4332-bb86-1f640ec3bd6c",
   "metadata": {},
   "source": [
    "###### Create and compile the model"
   ]
  },
  {
   "cell_type": "code",
   "execution_count": 10,
   "id": "fd3694d5-ee9e-45f7-8361-6d58a023faff",
   "metadata": {},
   "outputs": [],
   "source": [
    "def create_b0_model():\n",
    "    ## Load the pretrained EfficientNetB0 model\n",
    "    ## Set include_top to false to remove the 1000 pre-set image net classification layers because we want to use the 104 flower classification labels\n",
    "    ## Set weights to use pretrained ImageNet weights through ImageNet transfer learning\n",
    "    ## Set the model to expect inputs with the shape (224, 224, 3)\n",
    "    ## Sets the pooling to average to help reduce the number of parameters\n",
    "    b0_model = tf.keras.applications.EfficientNetB0(\n",
    "        include_top=False,\n",
    "        weights='imagenet', \n",
    "        input_shape=(224, 224, 3),\n",
    "        pooling='avg'\n",
    "    )\n",
    "    \n",
    "    ## Unfreeze the top layers for hyperparameter tuning\n",
    "    b0_model.trainable = True\n",
    "\n",
    "    ## Freeze only the bottom layers of the model\n",
    "    tuned = int(len(b0_model.layers) *.8)\n",
    "    for layer in b0_model.layers[:tuned]:\n",
    "        layer.trainable = False\n",
    "    \n",
    "    ## Create the model\n",
    "    ## Set .Dropout() to help regualrize the model and prevent overfitting, essentially say to leave out 20% of the neurons in training\n",
    "    ## Pass NUM_CLASSES to specify the number of output to be 104 flower classes, activation softmax indicates all outputs should sum to 1, output represents probability it is that flower\n",
    "    model = tf.keras.Sequential([\n",
    "        b0_model,\n",
    "        ## Add dropout layer with .3 dropout\n",
    "        tf.keras.layers.Dropout(0.3),\n",
    "        ## Add dense layer\n",
    "        tf.keras.layers.Dense(256, activation='relu'),\n",
    "        ## Add another dropout layer with .2 dropout\n",
    "        tf.keras.layers.Dropout(0.2),\n",
    "        ## This is the output layer\n",
    "        tf.keras.layers.Dense(NUM_CLASSES, activation='softmax')\n",
    "    ])\n",
    "    \n",
    "    return model\n",
    "\n",
    "## Create and compile the model\n",
    "## Use the adam optimizer for efficiency and ability to adapt learning rates, sets the learning rate of the optimizer\n",
    "## Loss is sparse (meaning not one-hot encoded but numerical 0-103, categorical_crossentropy is used for multiclass clasification\n",
    "## Metrics track the accuracy\n",
    "model = create_b0_model()\n",
    "model.compile(\n",
    "    optimizer=tf.keras.optimizers.Adam(learning_rate=5e-4),\n",
    "    loss='sparse_categorical_crossentropy', \n",
    "    metrics=['accuracy']\n",
    ")"
   ]
  },
  {
   "cell_type": "markdown",
   "id": "442512c8-2be2-40a7-a82f-1abe789c63c6",
   "metadata": {},
   "source": [
    "###### Set training parameters, epochs and callbacks"
   ]
  },
  {
   "cell_type": "code",
   "execution_count": 11,
   "id": "7d084082-88fe-4486-b6b0-b05bffd73218",
   "metadata": {},
   "outputs": [
    {
     "name": "stdout",
     "output_type": "stream",
     "text": [
      "Epoch 1/25\n",
      "    430/Unknown \u001b[1m247s\u001b[0m 554ms/step - accuracy: 0.4432 - loss: 2.5641"
     ]
    },
    {
     "name": "stderr",
     "output_type": "stream",
     "text": [
      "2025-07-28 13:34:30.650603: I tensorflow/core/framework/local_rendezvous.cc:407] Local rendezvous is aborting with status: OUT_OF_RANGE: End of sequence\n",
      "\t [[{{node IteratorGetNext}}]]\n"
     ]
    },
    {
     "name": "stdout",
     "output_type": "stream",
     "text": [
      "\u001b[1m430/430\u001b[0m \u001b[32m━━━━━━━━━━━━━━━━━━━━\u001b[0m\u001b[37m\u001b[0m \u001b[1m294s\u001b[0m 664ms/step - accuracy: 0.4436 - loss: 2.5618 - val_accuracy: 0.8518 - val_loss: 0.5575 - learning_rate: 5.0000e-04\n",
      "Epoch 2/25\n",
      "\u001b[1m430/430\u001b[0m \u001b[32m━━━━━━━━━━━━━━━━━━━━\u001b[0m\u001b[37m\u001b[0m \u001b[1m0s\u001b[0m 594ms/step - accuracy: 0.8627 - loss: 0.5055"
     ]
    },
    {
     "name": "stderr",
     "output_type": "stream",
     "text": [
      "2025-07-28 13:39:36.581814: I tensorflow/core/framework/local_rendezvous.cc:407] Local rendezvous is aborting with status: OUT_OF_RANGE: End of sequence\n",
      "\t [[{{node IteratorGetNext}}]]\n"
     ]
    },
    {
     "name": "stdout",
     "output_type": "stream",
     "text": [
      "\u001b[1m430/430\u001b[0m \u001b[32m━━━━━━━━━━━━━━━━━━━━\u001b[0m\u001b[37m\u001b[0m \u001b[1m308s\u001b[0m 708ms/step - accuracy: 0.8627 - loss: 0.5055 - val_accuracy: 0.8825 - val_loss: 0.4562 - learning_rate: 5.0000e-04\n",
      "Epoch 3/25\n",
      "\u001b[1m430/430\u001b[0m \u001b[32m━━━━━━━━━━━━━━━━━━━━\u001b[0m\u001b[37m\u001b[0m \u001b[1m307s\u001b[0m 705ms/step - accuracy: 0.9148 - loss: 0.3055 - val_accuracy: 0.8933 - val_loss: 0.4102 - learning_rate: 5.0000e-04\n",
      "Epoch 4/25\n",
      "\u001b[1m430/430\u001b[0m \u001b[32m━━━━━━━━━━━━━━━━━━━━\u001b[0m\u001b[37m\u001b[0m \u001b[1m0s\u001b[0m 597ms/step - accuracy: 0.9414 - loss: 0.2045"
     ]
    },
    {
     "name": "stderr",
     "output_type": "stream",
     "text": [
      "2025-07-28 13:49:51.997213: I tensorflow/core/framework/local_rendezvous.cc:407] Local rendezvous is aborting with status: OUT_OF_RANGE: End of sequence\n",
      "\t [[{{node IteratorGetNext}}]]\n"
     ]
    },
    {
     "name": "stdout",
     "output_type": "stream",
     "text": [
      "\u001b[1m430/430\u001b[0m \u001b[32m━━━━━━━━━━━━━━━━━━━━\u001b[0m\u001b[37m\u001b[0m \u001b[1m315s\u001b[0m 726ms/step - accuracy: 0.9414 - loss: 0.2045 - val_accuracy: 0.8952 - val_loss: 0.4389 - learning_rate: 5.0000e-04\n",
      "Epoch 5/25\n",
      "\u001b[1m430/430\u001b[0m \u001b[32m━━━━━━━━━━━━━━━━━━━━\u001b[0m\u001b[37m\u001b[0m \u001b[1m310s\u001b[0m 713ms/step - accuracy: 0.9566 - loss: 0.1565 - val_accuracy: 0.8947 - val_loss: 0.4567 - learning_rate: 5.0000e-04\n",
      "Epoch 6/25\n",
      "\u001b[1m430/430\u001b[0m \u001b[32m━━━━━━━━━━━━━━━━━━━━\u001b[0m\u001b[37m\u001b[0m \u001b[1m301s\u001b[0m 692ms/step - accuracy: 0.9730 - loss: 0.0897 - val_accuracy: 0.9151 - val_loss: 0.3667 - learning_rate: 1.0000e-04\n",
      "Epoch 7/25\n",
      "\u001b[1m430/430\u001b[0m \u001b[32m━━━━━━━━━━━━━━━━━━━━\u001b[0m\u001b[37m\u001b[0m \u001b[1m328s\u001b[0m 756ms/step - accuracy: 0.9821 - loss: 0.0623 - val_accuracy: 0.9208 - val_loss: 0.3688 - learning_rate: 1.0000e-04\n",
      "Epoch 8/25\n",
      "\u001b[1m430/430\u001b[0m \u001b[32m━━━━━━━━━━━━━━━━━━━━\u001b[0m\u001b[37m\u001b[0m \u001b[1m0s\u001b[0m 646ms/step - accuracy: 0.9861 - loss: 0.0524"
     ]
    },
    {
     "name": "stderr",
     "output_type": "stream",
     "text": [
      "2025-07-28 14:11:07.646110: I tensorflow/core/framework/local_rendezvous.cc:407] Local rendezvous is aborting with status: OUT_OF_RANGE: End of sequence\n",
      "\t [[{{node IteratorGetNext}}]]\n"
     ]
    },
    {
     "name": "stdout",
     "output_type": "stream",
     "text": [
      "\u001b[1m430/430\u001b[0m \u001b[32m━━━━━━━━━━━━━━━━━━━━\u001b[0m\u001b[37m\u001b[0m \u001b[1m330s\u001b[0m 759ms/step - accuracy: 0.9861 - loss: 0.0524 - val_accuracy: 0.9195 - val_loss: 0.3687 - learning_rate: 1.0000e-04\n",
      "Epoch 9/25\n",
      "\u001b[1m430/430\u001b[0m \u001b[32m━━━━━━━━━━━━━━━━━━━━\u001b[0m\u001b[37m\u001b[0m \u001b[1m367s\u001b[0m 845ms/step - accuracy: 0.9889 - loss: 0.0390 - val_accuracy: 0.9200 - val_loss: 0.3676 - learning_rate: 1.0000e-04\n"
     ]
    }
   ],
   "source": [
    "## Set training parameters\n",
    "## Sets epochs\n",
    "EPOCHS = 25\n",
    "\n",
    "## EarlyStopping - Add callback to monitor the validation loss and stop training after 3 epochs if the loss stops improving and reverts the weights back to where the model was still improving and had converged, this helps prevent overfitting\n",
    "##ReduceLROnPlateau - Add callback to monitor the validation loss and reduce the learning rate once performance starts to palteau, factor says multiply the learning rate by this value, patience say wait two epochs before reducing again, min_lr says don't go below this learning rate\n",
    "callbacks = [\n",
    "    tf.keras.callbacks.EarlyStopping(\n",
    "        monitor='val_loss',\n",
    "        patience=3,\n",
    "        restore_best_weights=True\n",
    "    ),\n",
    "    tf.keras.callbacks.ReduceLROnPlateau(\n",
    "        monitor='val_loss',\n",
    "        factor=0.2,\n",
    "        patience=2,\n",
    "        min_lr=1e-4\n",
    "    )\n",
    "]\n",
    "\n",
    "## Train the model using the train_dataset, number of epochs, specifying the validation set as validation_dataset, and point to the callback defined above\n",
    "history = model.fit(\n",
    "    train_dataset,\n",
    "    epochs=EPOCHS,\n",
    "    validation_data=validation_dataset,\n",
    "    callbacks=callbacks\n",
    ")"
   ]
  },
  {
   "cell_type": "code",
   "execution_count": 12,
   "id": "b61d7a30-c685-457d-8578-b2cffc35ca5f",
   "metadata": {},
   "outputs": [
    {
     "data": {
      "text/html": [
       "<pre style=\"white-space:pre;overflow-x:auto;line-height:normal;font-family:Menlo,'DejaVu Sans Mono',consolas,'Courier New',monospace\"><span style=\"font-weight: bold\">Model: \"sequential_1\"</span>\n",
       "</pre>\n"
      ],
      "text/plain": [
       "\u001b[1mModel: \"sequential_1\"\u001b[0m\n"
      ]
     },
     "metadata": {},
     "output_type": "display_data"
    },
    {
     "data": {
      "text/html": [
       "<pre style=\"white-space:pre;overflow-x:auto;line-height:normal;font-family:Menlo,'DejaVu Sans Mono',consolas,'Courier New',monospace\">┏━━━━━━━━━━━━━━━━━━━━━━━━━━━━━━━━━┳━━━━━━━━━━━━━━━━━━━━━━━━┳━━━━━━━━━━━━━━━┓\n",
       "┃<span style=\"font-weight: bold\"> Layer (type)                    </span>┃<span style=\"font-weight: bold\"> Output Shape           </span>┃<span style=\"font-weight: bold\">       Param # </span>┃\n",
       "┡━━━━━━━━━━━━━━━━━━━━━━━━━━━━━━━━━╇━━━━━━━━━━━━━━━━━━━━━━━━╇━━━━━━━━━━━━━━━┩\n",
       "│ efficientnetb0 (<span style=\"color: #0087ff; text-decoration-color: #0087ff\">Functional</span>)     │ (<span style=\"color: #00d7ff; text-decoration-color: #00d7ff\">None</span>, <span style=\"color: #00af00; text-decoration-color: #00af00\">1280</span>)           │     <span style=\"color: #00af00; text-decoration-color: #00af00\">4,049,571</span> │\n",
       "├─────────────────────────────────┼────────────────────────┼───────────────┤\n",
       "│ dropout (<span style=\"color: #0087ff; text-decoration-color: #0087ff\">Dropout</span>)               │ (<span style=\"color: #00d7ff; text-decoration-color: #00d7ff\">None</span>, <span style=\"color: #00af00; text-decoration-color: #00af00\">1280</span>)           │             <span style=\"color: #00af00; text-decoration-color: #00af00\">0</span> │\n",
       "├─────────────────────────────────┼────────────────────────┼───────────────┤\n",
       "│ dense (<span style=\"color: #0087ff; text-decoration-color: #0087ff\">Dense</span>)                   │ (<span style=\"color: #00d7ff; text-decoration-color: #00d7ff\">None</span>, <span style=\"color: #00af00; text-decoration-color: #00af00\">256</span>)            │       <span style=\"color: #00af00; text-decoration-color: #00af00\">327,936</span> │\n",
       "├─────────────────────────────────┼────────────────────────┼───────────────┤\n",
       "│ dropout_1 (<span style=\"color: #0087ff; text-decoration-color: #0087ff\">Dropout</span>)             │ (<span style=\"color: #00d7ff; text-decoration-color: #00d7ff\">None</span>, <span style=\"color: #00af00; text-decoration-color: #00af00\">256</span>)            │             <span style=\"color: #00af00; text-decoration-color: #00af00\">0</span> │\n",
       "├─────────────────────────────────┼────────────────────────┼───────────────┤\n",
       "│ dense_1 (<span style=\"color: #0087ff; text-decoration-color: #0087ff\">Dense</span>)                 │ (<span style=\"color: #00d7ff; text-decoration-color: #00d7ff\">None</span>, <span style=\"color: #00af00; text-decoration-color: #00af00\">104</span>)            │        <span style=\"color: #00af00; text-decoration-color: #00af00\">26,728</span> │\n",
       "└─────────────────────────────────┴────────────────────────┴───────────────┘\n",
       "</pre>\n"
      ],
      "text/plain": [
       "┏━━━━━━━━━━━━━━━━━━━━━━━━━━━━━━━━━┳━━━━━━━━━━━━━━━━━━━━━━━━┳━━━━━━━━━━━━━━━┓\n",
       "┃\u001b[1m \u001b[0m\u001b[1mLayer (type)                   \u001b[0m\u001b[1m \u001b[0m┃\u001b[1m \u001b[0m\u001b[1mOutput Shape          \u001b[0m\u001b[1m \u001b[0m┃\u001b[1m \u001b[0m\u001b[1m      Param #\u001b[0m\u001b[1m \u001b[0m┃\n",
       "┡━━━━━━━━━━━━━━━━━━━━━━━━━━━━━━━━━╇━━━━━━━━━━━━━━━━━━━━━━━━╇━━━━━━━━━━━━━━━┩\n",
       "│ efficientnetb0 (\u001b[38;5;33mFunctional\u001b[0m)     │ (\u001b[38;5;45mNone\u001b[0m, \u001b[38;5;34m1280\u001b[0m)           │     \u001b[38;5;34m4,049,571\u001b[0m │\n",
       "├─────────────────────────────────┼────────────────────────┼───────────────┤\n",
       "│ dropout (\u001b[38;5;33mDropout\u001b[0m)               │ (\u001b[38;5;45mNone\u001b[0m, \u001b[38;5;34m1280\u001b[0m)           │             \u001b[38;5;34m0\u001b[0m │\n",
       "├─────────────────────────────────┼────────────────────────┼───────────────┤\n",
       "│ dense (\u001b[38;5;33mDense\u001b[0m)                   │ (\u001b[38;5;45mNone\u001b[0m, \u001b[38;5;34m256\u001b[0m)            │       \u001b[38;5;34m327,936\u001b[0m │\n",
       "├─────────────────────────────────┼────────────────────────┼───────────────┤\n",
       "│ dropout_1 (\u001b[38;5;33mDropout\u001b[0m)             │ (\u001b[38;5;45mNone\u001b[0m, \u001b[38;5;34m256\u001b[0m)            │             \u001b[38;5;34m0\u001b[0m │\n",
       "├─────────────────────────────────┼────────────────────────┼───────────────┤\n",
       "│ dense_1 (\u001b[38;5;33mDense\u001b[0m)                 │ (\u001b[38;5;45mNone\u001b[0m, \u001b[38;5;34m104\u001b[0m)            │        \u001b[38;5;34m26,728\u001b[0m │\n",
       "└─────────────────────────────────┴────────────────────────┴───────────────┘\n"
      ]
     },
     "metadata": {},
     "output_type": "display_data"
    },
    {
     "data": {
      "text/html": [
       "<pre style=\"white-space:pre;overflow-x:auto;line-height:normal;font-family:Menlo,'DejaVu Sans Mono',consolas,'Courier New',monospace\"><span style=\"font-weight: bold\"> Total params: </span><span style=\"color: #00af00; text-decoration-color: #00af00\">9,724,157</span> (37.09 MB)\n",
       "</pre>\n"
      ],
      "text/plain": [
       "\u001b[1m Total params: \u001b[0m\u001b[38;5;34m9,724,157\u001b[0m (37.09 MB)\n"
      ]
     },
     "metadata": {},
     "output_type": "display_data"
    },
    {
     "data": {
      "text/html": [
       "<pre style=\"white-space:pre;overflow-x:auto;line-height:normal;font-family:Menlo,'DejaVu Sans Mono',consolas,'Courier New',monospace\"><span style=\"font-weight: bold\"> Trainable params: </span><span style=\"color: #00af00; text-decoration-color: #00af00\">2,659,960</span> (10.15 MB)\n",
       "</pre>\n"
      ],
      "text/plain": [
       "\u001b[1m Trainable params: \u001b[0m\u001b[38;5;34m2,659,960\u001b[0m (10.15 MB)\n"
      ]
     },
     "metadata": {},
     "output_type": "display_data"
    },
    {
     "data": {
      "text/html": [
       "<pre style=\"white-space:pre;overflow-x:auto;line-height:normal;font-family:Menlo,'DejaVu Sans Mono',consolas,'Courier New',monospace\"><span style=\"font-weight: bold\"> Non-trainable params: </span><span style=\"color: #00af00; text-decoration-color: #00af00\">1,744,275</span> (6.65 MB)\n",
       "</pre>\n"
      ],
      "text/plain": [
       "\u001b[1m Non-trainable params: \u001b[0m\u001b[38;5;34m1,744,275\u001b[0m (6.65 MB)\n"
      ]
     },
     "metadata": {},
     "output_type": "display_data"
    },
    {
     "data": {
      "text/html": [
       "<pre style=\"white-space:pre;overflow-x:auto;line-height:normal;font-family:Menlo,'DejaVu Sans Mono',consolas,'Courier New',monospace\"><span style=\"font-weight: bold\"> Optimizer params: </span><span style=\"color: #00af00; text-decoration-color: #00af00\">5,319,922</span> (20.29 MB)\n",
       "</pre>\n"
      ],
      "text/plain": [
       "\u001b[1m Optimizer params: \u001b[0m\u001b[38;5;34m5,319,922\u001b[0m (20.29 MB)\n"
      ]
     },
     "metadata": {},
     "output_type": "display_data"
    }
   ],
   "source": [
    "model.summary()"
   ]
  },
  {
   "cell_type": "markdown",
   "id": "94bc1a60-98ed-4317-b044-3cae655efcf4",
   "metadata": {},
   "source": [
    "###### Plot the training history"
   ]
  },
  {
   "cell_type": "code",
   "execution_count": 13,
   "id": "8a408769-5611-4ad4-bccc-29715bb8f166",
   "metadata": {},
   "outputs": [
    {
     "data": {
      "image/png": "[encoded data removed]",
      "text/plain": [
       "<Figure size 1200x400 with 2 Axes>"
      ]
     },
     "metadata": {},
     "output_type": "display_data"
    }
   ],
   "source": [
    "## Plot the training history\n",
    "def plot_training_history(history):\n",
    "    fig, (ax1, ax2) = plt.subplots(1, 2, figsize=(12, 4))\n",
    "    \n",
    "    ## Plot the accuracy\n",
    "    ax1.plot(history.history['accuracy'], label='Training')\n",
    "    ax1.plot(history.history['val_accuracy'], label='Validation')\n",
    "    ax1.set_title('Model Accuracy')\n",
    "    ax1.set_xlabel('Epoch')\n",
    "    ax1.set_ylabel('Accuracy')\n",
    "    ax1.legend()\n",
    "    \n",
    "    ## Plot the loss\n",
    "    ax2.plot(history.history['loss'], label='Training')\n",
    "    ax2.plot(history.history['val_loss'], label='Validation')\n",
    "    ax2.set_title('Model Loss')\n",
    "    ax2.set_xlabel('Epoch')\n",
    "    ax2.set_ylabel('Loss')\n",
    "    ax2.legend()\n",
    "    \n",
    "    plt.tight_layout()\n",
    "    plt.show()\n",
    "\n",
    "## Show the training results\n",
    "plot_training_history(history)"
   ]
  },
  {
   "cell_type": "markdown",
   "id": "ca9056bb-6724-4274-bc93-d8d307948937",
   "metadata": {},
   "source": [
    "###### Function to assemble the models class predictions"
   ]
  },
  {
   "cell_type": "code",
   "execution_count": null,
   "id": "69642226-e3f4-43c3-813b-ba6af58934fb",
   "metadata": {},
   "outputs": [],
   "source": [
    "## Function to assemble the models class predictions\n",
    "def get_predictions():\n",
    "    image_ids = []\n",
    "    predictions = []\n",
    "    \n",
    "    print(\"Getting predictions for test set...\")\n",
    "    batch_count = 0\n",
    "    \n",
    "    # Get predictions for test set (now properly batched)\n",
    "    for batch_images, batch_image_names in test_dataset:\n",
    "        batch_count += 1\n",
    "        print(f\"Processing batch {batch_count}, batch shape: {batch_images.shape}\")\n",
    "        \n",
    "        # Get predictions for this batch\n",
    "        pred = model.predict(batch_images, verbose=0)\n",
    "        pred_labels = tf.argmax(pred, axis=1)\n",
    "        \n",
    "        # Convert tensor to numpy for easier handling\n",
    "        batch_image_names = batch_image_names.numpy()\n",
    "        pred_labels = pred_labels.numpy()\n",
    "        \n",
    "        # Extend our lists\n",
    "        image_ids.extend([name.decode('utf-8') for name in batch_image_names])\n",
    "        predictions.extend(pred_labels)\n",
    "    \n",
    "    print(f\"Total predictions made: {len(predictions)}\")\n",
    "    return image_ids, predictions"
   ]
  },
  {
   "cell_type": "markdown",
   "id": "ffac3357-6a15-482b-ab2d-3d18374d906c",
   "metadata": {},
   "source": [
    "###### Function to create the submission"
   ]
  },
  {
   "cell_type": "code",
   "execution_count": null,
   "id": "25ca3fb7-90d0-4a2f-86b3-1998e1349c57",
   "metadata": {},
   "outputs": [],
   "source": [
    "def create_submission():\n",
    "    # Get predictions\n",
    "    image_ids, predictions = get_predictions()\n",
    "    \n",
    "    # Create submission DataFrame\n",
    "    submission_df = pd.DataFrame({\n",
    "        'id': image_ids,\n",
    "        'label': predictions\n",
    "    })\n",
    "    \n",
    "    # Save submission file\n",
    "    submission_df.to_csv('submission.csv', index=False)\n",
    "    print(\"Submission file created!\")\n",
    "    \n",
    "# Create submission after training\n",
    "create_submission()"
   ]
  },
  {
   "cell_type": "markdown",
   "id": "2af4cc5b-cb7d-4c82-8e9e-e1e9f900591b",
   "metadata": {},
   "source": [
    "## EfficientNet B1 - Data Balanced and Hyperparameter Tuned"
   ]
  },
  {
   "cell_type": "markdown",
   "id": "600c808f-3d63-49cf-8dfb-dac019af21b6",
   "metadata": {},
   "source": [
    "To further explore improvements to the baseline model we explored using the EfficientNet B1 model which takes a larger image dimmension as it's input and is also a significantly larger model taking in more parameters.\n",
    "\n",
    "In order to help out model learn more robust features while preventing overfitting, we utilized a single dense layer with 256 neurons with two dropout layers of .3 and .2.\n",
    "\n",
    "We applied some more extensive data augmentation by slightly increasing the random rotation, brightness and zoom whil also adding contrast into out data augmentation. \n",
    "\n",
    "The layers and dropout are the same as the baseline, but we've frozen 10% of the base layers for transfer learning with imagenet and we've increased the learning rate to 2e-3 for faster convergence. \n",
    "\n",
    "Other updates: \n",
    "- Increased shuffle buffer from 200 to 250\n",
    "- Increased batch size from 32 to 48\n",
    "- - Updated callbacks to monitor accuracy and not loss\n",
    "\n",
    "You can find the Kaggle notebook here: https://www.kaggle.com/code/emilylieske/efficientnetb1-hyperparameter-tuned\n",
    "\n",
    "Kaggle score: 0.90204"
   ]
  },
  {
   "cell_type": "markdown",
   "id": "aab2de79-7467-4ae1-8ccc-2c98949b4c3d",
   "metadata": {},
   "source": [
    "#### Data Preparation and Necessary Pre-Processing"
   ]
  },
  {
   "cell_type": "markdown",
   "id": "ade02a26-31df-4a6d-8504-5130e6898d78",
   "metadata": {},
   "source": [
    "###### Function to decode and normalize the images and standardize to RGB"
   ]
  },
  {
   "cell_type": "code",
   "execution_count": 2,
   "id": "38671798-6438-4a80-81f3-e025479710a3",
   "metadata": {},
   "outputs": [],
   "source": [
    "## Function to decode and normalize the images and standardize to RGB\n",
    "image_size = [240,240]\n",
    "\n",
    "def decode_image(image_data):\n",
    "    \"\"\"Function to decode the image from the .tfrec\"\"\"\n",
    "    ## Converts the raw JPEG file bytes into a 3D tensor, channels=3  indicates RGB, create the shape (height, width, 3), the output is a uint tensor with values 0-255\n",
    "    image = tf.image.decode_jpeg(image_data, channels=3)\n",
    "    \n",
    "    ## Resize all images to the image size specified above [512,512], using bilinear method to smooth the images for efficient processing\n",
    "    image = tf.image.resize(image, image_size, method = \"bilinear\")\n",
    "    \n",
    "    ## Converts the uint to float32, then normalizes the inputs by dividing by the number of pixel values 255\n",
    "    ## Commented out for EfficientNet model because it already has a rescaling layer in the model\n",
    "    image = tf.cast(image, tf.float32) \n",
    "    # / 255.0\n",
    "    \n",
    "    ## Takes the image size defined above this function and reshapes it to be the image size [height, width, 3]\n",
    "    image = tf.reshape(image, [*image_size,3])\n",
    "    return image"
   ]
  },
  {
   "cell_type": "markdown",
   "id": "917d4137-eabb-4226-8f05-b5c8833959f3",
   "metadata": {},
   "source": [
    "###### Function to Load the Datasets"
   ]
  },
  {
   "cell_type": "code",
   "execution_count": 3,
   "id": "fbf87550-a7ec-43df-9049-10877d041921",
   "metadata": {},
   "outputs": [],
   "source": [
    "## Function to load the datasets\n",
    "def load_dataset(filenames, labeled=True):\n",
    "    \"\"\"Load TFRecord dataset from filenames\"\"\"\n",
    "    ## Creates a dataset that reads the files, AUTOTUNE processes them simultneously and TF optimizes the number of readers\n",
    "    ## Creates a dataset of the raw binary .tfrec examples\n",
    "    dataset = tf.data.TFRecordDataset(filenames, num_parallel_reads=tf.data.AUTOTUNE)\n",
    "\n",
    "    ## dataset.map applies the read_labeled_tfrec function to each example, AUTOTUNE processes them simultneously and TF optimizes the number of readers\n",
    "    ## Transforms the raw data to (image_tensor, label_int) pairs\n",
    "    if labeled:\n",
    "        dataset = dataset.map(read_labeled_tfrec, num_parallel_calls=tf.data.AUTOTUNE)\n",
    "    else:\n",
    "        dataset = dataset.map(read_unlabeled_tfrec, num_parallel_calls=tf.data.AUTOTUNE)       \n",
    "    return dataset"
   ]
  },
  {
   "cell_type": "markdown",
   "id": "aea7381c-8438-4506-a7da-546f2045da93",
   "metadata": {},
   "source": [
    "###### Function to return an image, label pair for the training and validation sets"
   ]
  },
  {
   "cell_type": "code",
   "execution_count": 4,
   "id": "2c6abdf8-1ddc-400a-888f-649a349ad3db",
   "metadata": {},
   "outputs": [],
   "source": [
    "## Function to return an image, label pair for the training and validation sets\n",
    "def read_labeled_tfrec(input_example):\n",
    "    \"\"\"Read and parse the labeled .tfrec\"\"\"\n",
    "    ## Tells Tensorflow how to interpret the binary .tfrec data, \"image\" tells TF to expect binary jppeg bytes, \"class\" tells TF to expect integer labels (the flower labels)\n",
    "    labeled_tfrec_format = { \n",
    "        \"image\": tf.io.FixedLenFeature([], tf.string),\n",
    "        \"class\": tf.io.FixedLenFeature([], tf.int64)\n",
    "    }\n",
    "    ## Parses the input_example using the format specified above\n",
    "    ## Takes raw binary data (input_example) and uses the labeled_tfrec_format to return a dictionary {image bytes, flower label}\n",
    "    input_example = tf.io.parse_single_example(input_example, labeled_tfrec_format)\n",
    "    \n",
    "    ## Process the image - Takes the JPEG bytes from the example image, and normalizes them to a [512,512,3] tensor using the decode_image function\n",
    "    image = decode_image(input_example[\"image\"])\n",
    "    \n",
    "    ## Process the label - input_example['class'] is the flower class ID\n",
    "    label = tf.cast(input_example['class'], tf.int32)\n",
    "    return image, label"
   ]
  },
  {
   "cell_type": "markdown",
   "id": "1fc9f437-aaaa-4137-b8c3-4563dbe619ff",
   "metadata": {},
   "source": [
    "###### Function to return an image without labels for the test set"
   ]
  },
  {
   "cell_type": "code",
   "execution_count": 5,
   "id": "dfffa0f5-fd2d-486e-ace5-a2d32873972e",
   "metadata": {},
   "outputs": [],
   "source": [
    "def read_unlabeled_tfrec(input_example):\n",
    "    \"\"\"Read and parse the unlabeled .tfrec\"\"\"\n",
    "    unlabeled_tfrec_format = { \n",
    "        \"image\": tf.io.FixedLenFeature([], tf.string),\n",
    "        \"id\": tf.io.FixedLenFeature([], tf.string)\n",
    "    }    \n",
    "    input_example = tf.io.parse_single_example(input_example, unlabeled_tfrec_format)\n",
    "    \n",
    "    ## Process the image - Takes the JPEG bytes from the example image, and normalizes them to a [512,512,3] tensor using the decode_image function\n",
    "    image = decode_image(input_example[\"image\"])\n",
    "    \n",
    "    ## Process the label - input_example['id'] is the image ID\n",
    "    image_id = input_example['id']\n",
    "    return image, image_id"
   ]
  },
  {
   "cell_type": "markdown",
   "id": "c9ac2e52-b850-4682-93f5-7489e5e81cf9",
   "metadata": {},
   "source": [
    "###### Create the training, validation and test sets using only one of the provided image dimmensions"
   ]
  },
  {
   "cell_type": "code",
   "execution_count": 6,
   "id": "8e9d9f7b-6750-40ad-a693-5f0536131dbe",
   "metadata": {},
   "outputs": [],
   "source": [
    "## Get filenames for 224x224 images only\n",
    "folder = 'tfrecords-jpeg-224x224'\n",
    "train_files = tf.io.gfile.glob(f\"./tpu-getting-started/{folder}/train/*.tfrec\")\n",
    "val_files = tf.io.gfile.glob(f\"./tpu-getting-started/{folder}/val/*.tfrec\")\n",
    "test_files = tf.io.gfile.glob(f\"./tpu-getting-started/{folder}/test/*.tfrec\")\n",
    "\n",
    "## Create train, validation and test data set\n",
    "train_dataset = load_dataset(train_files, labeled=True)\n",
    "validation_dataset = load_dataset(val_files, labeled=True)\n",
    "test_dataset = load_dataset(test_files, labeled=False)"
   ]
  },
  {
   "cell_type": "markdown",
   "id": "72c5426f-a69a-4915-ab1e-e9c3b28959d0",
   "metadata": {},
   "source": [
    "###### Function to create augmented data for the minority represented classes"
   ]
  },
  {
   "cell_type": "code",
   "execution_count": 7,
   "id": "749f4012-c5af-4fd8-acef-813f62e1878e",
   "metadata": {},
   "outputs": [
    {
     "name": "stderr",
     "output_type": "stream",
     "text": [
      "2025-07-28 14:27:39.148020: I tensorflow/core/kernels/data/tf_record_dataset_op.cc:381] TFRecordDataset `buffer_size` is unspecified, default to 262144\n",
      "2025-07-28 14:27:41.759548: I tensorflow/core/framework/local_rendezvous.cc:407] Local rendezvous is aborting with status: OUT_OF_RANGE: End of sequence\n"
     ]
    },
    {
     "name": "stdout",
     "output_type": "stream",
     "text": [
      "Boosting 36 minority classes\n"
     ]
    }
   ],
   "source": [
    "## Balance the dataset by creating augmented data only for the classes that \n",
    "def quick_balance(dataset, min_samples=50):\n",
    "    ## Count the classes\n",
    "    class_counts = {}\n",
    "    for _, label in dataset:\n",
    "        lbl = int(label.numpy())\n",
    "        class_counts[lbl] = class_counts.get(lbl, 0) + 1\n",
    "    \n",
    "    ## Find minority classes\n",
    "    minority_classes = [cls for cls, count in class_counts.items() if count < min_samples]\n",
    "    print(f\"Boosting {len(minority_classes)} minority classes\")\n",
    "    \n",
    "    \n",
    "    augmentation = tf.keras.Sequential([\n",
    "        tf.keras.layers.RandomFlip(\"horizontal\"),\n",
    "        tf.keras.layers.RandomRotation(0.15),\n",
    "        tf.keras.layers.RandomBrightness(0.15),\n",
    "        tf.keras.layers.RandomContrast(0.1),\n",
    "        tf.keras.layers.RandomZoom(0.15)\n",
    "    ])\n",
    "\n",
    "    minority_data = dataset.filter(lambda img, lbl: tf.reduce_any(tf.equal(lbl, minority_classes)))\n",
    "    boosted_minorities = minority_data.map(lambda img, lbl: (augmentation(img, training=True), lbl)).repeat(4)\n",
    "\n",
    "    ## Concatenates the training data only with the minority classes augmented data\n",
    "    return dataset.concatenate(boosted_minorities)\n",
    "\n",
    "## Apply balancing to training data only\n",
    "train_dataset = quick_balance(train_dataset, min_samples=50)\n",
    "## Keep validation dataset unchanged"
   ]
  },
  {
   "cell_type": "markdown",
   "id": "428afdf4-0143-473d-8d8b-fd547696f7b5",
   "metadata": {},
   "source": [
    "###### Shuffling the training and validation sets"
   ]
  },
  {
   "cell_type": "code",
   "execution_count": 8,
   "id": "549244ec-ca84-470f-8740-f7b027cd0506",
   "metadata": {},
   "outputs": [],
   "source": [
    "## Shuffling the training and validation sets\n",
    "\n",
    "## Sets random seed for reproducability\n",
    "tf.random.set_seed(42)\n",
    "\n",
    "## Set shuffle buffer to set how many are shuffled at once\n",
    "shuffle_buffer = 250\n",
    "\n",
    "## Shuffle the training set\n",
    "train_dataset = train_dataset.shuffle(shuffle_buffer, seed=42, reshuffle_each_iteration=False)\n",
    "\n",
    "## Shuffle the validation set\n",
    "validation_dataset = validation_dataset.shuffle(shuffle_buffer, seed=42, reshuffle_each_iteration=False)\n",
    "\n",
    "## No shuffling of test data as it's not needed"
   ]
  },
  {
   "cell_type": "markdown",
   "id": "0768c5e4-3b75-4b0b-9a81-c163e4c1d074",
   "metadata": {},
   "source": [
    "###### Set batch size and group data sets"
   ]
  },
  {
   "cell_type": "code",
   "execution_count": 9,
   "id": "c6e5337c-b1b8-4fab-875e-6f3e6b607c10",
   "metadata": {},
   "outputs": [],
   "source": [
    "## Set hyperparameters\n",
    "## Sets the batch to 48 as the number of images to be processed at a time durin one forward/backward pass through the model, 32 is a default\n",
    "## Larger batches take more memory and are more stable but if they batch is too large the model may generalize poorly\n",
    "BATCH_SIZE = 48\n",
    "## Tensorflow optimization that automatically determines the most optimal number of parallel processes\n",
    "AUTO = tf.data.AUTOTUNE\n",
    "## Sets the number of classes to the number of flower categories\n",
    "NUM_CLASSES = 104\n",
    "\n",
    "## Prepare the datasets for training by grouping a batch based on the size set above, and pre-fetches the next batch while the current batch is being processed\n",
    "train_dataset = train_dataset.batch(BATCH_SIZE).prefetch(AUTO)\n",
    "validation_dataset = validation_dataset.batch(BATCH_SIZE).prefetch(AUTO)\n",
    "test_dataset = test_dataset.batch(BATCH_SIZE).prefetch(AUTO)"
   ]
  },
  {
   "cell_type": "markdown",
   "id": "ca5f8a46-c3db-44a8-b910-dc8d10ced5da",
   "metadata": {},
   "source": [
    "###### Create and compile the model"
   ]
  },
  {
   "cell_type": "code",
   "execution_count": 10,
   "id": "e8d2ebd2-2ee4-4d8d-8a47-621a894b82c4",
   "metadata": {},
   "outputs": [],
   "source": [
    "def create_b1_model():\n",
    "    ## Load the pretrained EfficientNetB1 model\n",
    "    ## Set include_top to false to remove the 1000 pre-set image net classification layers because we want to use the 104 flower classification labels\n",
    "    ## Set weights to use pretrained ImageNet weights through ImageNet transfer learning\n",
    "    ## Set the model to expect inputs with the shape (240, 240, 3) - EfficientNetB4 input size\n",
    "    ## Sets the pooling to average to help reduce the number of parameters\n",
    "    b1_model = tf.keras.applications.EfficientNetB1(\n",
    "        include_top=False,\n",
    "        weights='imagenet', \n",
    "        input_shape=(240, 240, 3),\n",
    "        pooling='avg'\n",
    "    )\n",
    "    \n",
    "    ## Unfreeze the top layers for hyperparameter tuning\n",
    "    b1_model.trainable = True\n",
    "\n",
    "    ## Freeze only the bottom layers of the model\n",
    "    tuned = int(len(b1_model.layers) *.9)\n",
    "    for layer in b1_model.layers[:tuned]:\n",
    "        layer.trainable = False\n",
    "    \n",
    "    ## Create the model with slightly higher dropout for the larger model\n",
    "    b1_model = tf.keras.Sequential([\n",
    "        b1_model,\n",
    "        ## Add another dropout layer with .3 dropout\n",
    "        tf.keras.layers.Dropout(0.3),\n",
    "        ## Add a dense layer with 256 neurons\n",
    "        tf.keras.layers.Dense(256, activation='relu'),\n",
    "        ## Add another dropout layer with .2 dropout\n",
    "        tf.keras.layers.Dropout(0.2),\n",
    "        ## This is the output layer\n",
    "        tf.keras.layers.Dense(NUM_CLASSES, activation='softmax')\n",
    "    ])\n",
    "    \n",
    "    return b1_model\n",
    "\n",
    "## Create and compile the model\n",
    "## Use the adam optimizer for efficiency and ability to adapt learning rates, sets the learning rate of the optimizer\n",
    "## Loss is sparse (meaning not one-hot encoded but numerical 0-103, categorical_crossentropy is used for multiclass clasification\n",
    "## Metrics track the accuracy\n",
    "model = create_b1_model()\n",
    "model.compile(\n",
    "    optimizer=tf.keras.optimizers.Adam(learning_rate=2e-3),\n",
    "    loss='sparse_categorical_crossentropy', \n",
    "    metrics=['accuracy']\n",
    ")"
   ]
  },
  {
   "cell_type": "markdown",
   "id": "94bc3944-c0fc-4c0d-8558-a21dd39394d9",
   "metadata": {},
   "source": [
    "###### Set training parameters, epochs and callbacks"
   ]
  },
  {
   "cell_type": "code",
   "execution_count": 11,
   "id": "b38a4776-4886-4391-ab72-e7d59304151e",
   "metadata": {},
   "outputs": [
    {
     "name": "stdout",
     "output_type": "stream",
     "text": [
      "Epoch 1/20\n",
      "    349/Unknown \u001b[1m516s\u001b[0m 1s/step - accuracy: 0.5540 - loss: 1.9518"
     ]
    },
    {
     "name": "stderr",
     "output_type": "stream",
     "text": [
      "2025-07-28 14:37:33.854225: I tensorflow/core/framework/local_rendezvous.cc:407] Local rendezvous is aborting with status: OUT_OF_RANGE: End of sequence\n",
      "\t [[{{node IteratorGetNext}}]]\n"
     ]
    },
    {
     "name": "stdout",
     "output_type": "stream",
     "text": [
      "\u001b[1m349/349\u001b[0m \u001b[32m━━━━━━━━━━━━━━━━━━━━\u001b[0m\u001b[37m\u001b[0m \u001b[1m616s\u001b[0m 2s/step - accuracy: 0.5545 - loss: 1.9494 - val_accuracy: 0.2629 - val_loss: 4.9368 - learning_rate: 0.0020\n",
      "Epoch 2/20\n",
      "\u001b[1m349/349\u001b[0m \u001b[32m━━━━━━━━━━━━━━━━━━━━\u001b[0m\u001b[37m\u001b[0m \u001b[1m0s\u001b[0m 2s/step - accuracy: 0.7848 - loss: 0.8512"
     ]
    },
    {
     "name": "stderr",
     "output_type": "stream",
     "text": [
      "2025-07-28 14:49:02.427218: I tensorflow/core/framework/local_rendezvous.cc:407] Local rendezvous is aborting with status: OUT_OF_RANGE: End of sequence\n",
      "\t [[{{node IteratorGetNext}}]]\n"
     ]
    },
    {
     "name": "stdout",
     "output_type": "stream",
     "text": [
      "\u001b[1m349/349\u001b[0m \u001b[32m━━━━━━━━━━━━━━━━━━━━\u001b[0m\u001b[37m\u001b[0m \u001b[1m678s\u001b[0m 2s/step - accuracy: 0.7850 - loss: 0.8502 - val_accuracy: 0.5342 - val_loss: 2.3510 - learning_rate: 0.0020\n",
      "Epoch 3/20\n",
      "\u001b[1m349/349\u001b[0m \u001b[32m━━━━━━━━━━━━━━━━━━━━\u001b[0m\u001b[37m\u001b[0m \u001b[1m630s\u001b[0m 2s/step - accuracy: 0.8605 - loss: 0.4762 - val_accuracy: 0.6452 - val_loss: 1.8084 - learning_rate: 0.0020\n",
      "Epoch 4/20\n",
      "\u001b[1m349/349\u001b[0m \u001b[32m━━━━━━━━━━━━━━━━━━━━\u001b[0m\u001b[37m\u001b[0m \u001b[1m0s\u001b[0m 2s/step - accuracy: 0.8890 - loss: 0.3695"
     ]
    },
    {
     "name": "stderr",
     "output_type": "stream",
     "text": [
      "2025-07-28 15:10:15.358594: I tensorflow/core/framework/local_rendezvous.cc:407] Local rendezvous is aborting with status: OUT_OF_RANGE: End of sequence\n",
      "\t [[{{node IteratorGetNext}}]]\n"
     ]
    },
    {
     "name": "stdout",
     "output_type": "stream",
     "text": [
      "\u001b[1m349/349\u001b[0m \u001b[32m━━━━━━━━━━━━━━━━━━━━\u001b[0m\u001b[37m\u001b[0m \u001b[1m634s\u001b[0m 2s/step - accuracy: 0.8891 - loss: 0.3693 - val_accuracy: 0.6382 - val_loss: 1.9270 - learning_rate: 0.0020\n",
      "Epoch 5/20\n",
      "\u001b[1m349/349\u001b[0m \u001b[32m━━━━━━━━━━━━━━━━━━━━\u001b[0m\u001b[37m\u001b[0m \u001b[1m554s\u001b[0m 2s/step - accuracy: 0.9073 - loss: 0.3146 - val_accuracy: 0.6659 - val_loss: 1.6725 - learning_rate: 0.0020\n",
      "Epoch 6/20\n",
      "\u001b[1m349/349\u001b[0m \u001b[32m━━━━━━━━━━━━━━━━━━━━\u001b[0m\u001b[37m\u001b[0m \u001b[1m570s\u001b[0m 2s/step - accuracy: 0.9233 - loss: 0.2501 - val_accuracy: 0.7260 - val_loss: 1.6061 - learning_rate: 0.0020\n",
      "Epoch 7/20\n",
      "\u001b[1m349/349\u001b[0m \u001b[32m━━━━━━━━━━━━━━━━━━━━\u001b[0m\u001b[37m\u001b[0m \u001b[1m611s\u001b[0m 2s/step - accuracy: 0.9383 - loss: 0.2027 - val_accuracy: 0.7400 - val_loss: 1.7971 - learning_rate: 0.0020\n",
      "Epoch 8/20\n",
      "\u001b[1m349/349\u001b[0m \u001b[32m━━━━━━━━━━━━━━━━━━━━\u001b[0m\u001b[37m\u001b[0m \u001b[1m0s\u001b[0m 2s/step - accuracy: 0.9388 - loss: 0.2270"
     ]
    },
    {
     "name": "stderr",
     "output_type": "stream",
     "text": [
      "2025-07-28 15:49:16.195928: I tensorflow/core/framework/local_rendezvous.cc:407] Local rendezvous is aborting with status: OUT_OF_RANGE: End of sequence\n",
      "\t [[{{node IteratorGetNext}}]]\n"
     ]
    },
    {
     "name": "stdout",
     "output_type": "stream",
     "text": [
      "\u001b[1m349/349\u001b[0m \u001b[32m━━━━━━━━━━━━━━━━━━━━\u001b[0m\u001b[37m\u001b[0m \u001b[1m610s\u001b[0m 2s/step - accuracy: 0.9388 - loss: 0.2268 - val_accuracy: 0.7629 - val_loss: 1.4419 - learning_rate: 0.0020\n",
      "Epoch 9/20\n",
      "\u001b[1m349/349\u001b[0m \u001b[32m━━━━━━━━━━━━━━━━━━━━\u001b[0m\u001b[37m\u001b[0m \u001b[1m596s\u001b[0m 2s/step - accuracy: 0.9468 - loss: 0.1873 - val_accuracy: 0.6999 - val_loss: 1.9081 - learning_rate: 0.0020\n",
      "Epoch 10/20\n",
      "\u001b[1m349/349\u001b[0m \u001b[32m━━━━━━━━━━━━━━━━━━━━\u001b[0m\u001b[37m\u001b[0m \u001b[1m584s\u001b[0m 2s/step - accuracy: 0.9443 - loss: 0.1934 - val_accuracy: 0.7729 - val_loss: 1.4683 - learning_rate: 0.0020\n",
      "Epoch 11/20\n",
      "\u001b[1m349/349\u001b[0m \u001b[32m━━━━━━━━━━━━━━━━━━━━\u001b[0m\u001b[37m\u001b[0m \u001b[1m793s\u001b[0m 2s/step - accuracy: 0.9568 - loss: 0.1527 - val_accuracy: 0.7643 - val_loss: 1.5537 - learning_rate: 0.0020\n",
      "Epoch 12/20\n",
      "\u001b[1m349/349\u001b[0m \u001b[32m━━━━━━━━━━━━━━━━━━━━\u001b[0m\u001b[37m\u001b[0m \u001b[1m594s\u001b[0m 2s/step - accuracy: 0.9595 - loss: 0.1427 - val_accuracy: 0.7567 - val_loss: 1.5806 - learning_rate: 0.0020\n",
      "Epoch 13/20\n",
      "\u001b[1m349/349\u001b[0m \u001b[32m━━━━━━━━━━━━━━━━━━━━\u001b[0m\u001b[37m\u001b[0m \u001b[1m612s\u001b[0m 2s/step - accuracy: 0.9631 - loss: 0.1190 - val_accuracy: 0.8860 - val_loss: 0.7104 - learning_rate: 0.0010\n",
      "Epoch 14/20\n",
      "\u001b[1m349/349\u001b[0m \u001b[32m━━━━━━━━━━━━━━━━━━━━\u001b[0m\u001b[37m\u001b[0m \u001b[1m573s\u001b[0m 2s/step - accuracy: 0.9871 - loss: 0.0421 - val_accuracy: 0.8966 - val_loss: 0.6877 - learning_rate: 0.0010\n",
      "Epoch 15/20\n",
      "\u001b[1m349/349\u001b[0m \u001b[32m━━━━━━━━━━━━━━━━━━━━\u001b[0m\u001b[37m\u001b[0m \u001b[1m583s\u001b[0m 2s/step - accuracy: 0.9922 - loss: 0.0262 - val_accuracy: 0.8949 - val_loss: 0.7353 - learning_rate: 0.0010\n",
      "Epoch 16/20\n",
      "\u001b[1m349/349\u001b[0m \u001b[32m━━━━━━━━━━━━━━━━━━━━\u001b[0m\u001b[37m\u001b[0m \u001b[1m0s\u001b[0m 1s/step - accuracy: 0.9911 - loss: 0.0243"
     ]
    },
    {
     "name": "stderr",
     "output_type": "stream",
     "text": [
      "2025-07-28 17:11:23.319880: I tensorflow/core/framework/local_rendezvous.cc:407] Local rendezvous is aborting with status: OUT_OF_RANGE: End of sequence\n",
      "\t [[{{node IteratorGetNext}}]]\n"
     ]
    },
    {
     "name": "stdout",
     "output_type": "stream",
     "text": [
      "\u001b[1m349/349\u001b[0m \u001b[32m━━━━━━━━━━━━━━━━━━━━\u001b[0m\u001b[37m\u001b[0m \u001b[1m592s\u001b[0m 2s/step - accuracy: 0.9911 - loss: 0.0243 - val_accuracy: 0.8947 - val_loss: 0.7133 - learning_rate: 0.0010\n",
      "Epoch 17/20\n",
      "\u001b[1m349/349\u001b[0m \u001b[32m━━━━━━━━━━━━━━━━━━━━\u001b[0m\u001b[37m\u001b[0m \u001b[1m602s\u001b[0m 2s/step - accuracy: 0.9935 - loss: 0.0216 - val_accuracy: 0.9062 - val_loss: 0.6693 - learning_rate: 5.0000e-04\n",
      "Epoch 18/20\n",
      "\u001b[1m349/349\u001b[0m \u001b[32m━━━━━━━━━━━━━━━━━━━━\u001b[0m\u001b[37m\u001b[0m \u001b[1m652s\u001b[0m 2s/step - accuracy: 0.9968 - loss: 0.0122 - val_accuracy: 0.9049 - val_loss: 0.6992 - learning_rate: 5.0000e-04\n",
      "Epoch 19/20\n",
      "\u001b[1m349/349\u001b[0m \u001b[32m━━━━━━━━━━━━━━━━━━━━\u001b[0m\u001b[37m\u001b[0m \u001b[1m661s\u001b[0m 2s/step - accuracy: 0.9969 - loss: 0.0105 - val_accuracy: 0.9103 - val_loss: 0.6767 - learning_rate: 5.0000e-04\n",
      "Epoch 20/20\n",
      "\u001b[1m349/349\u001b[0m \u001b[32m━━━━━━━━━━━━━━━━━━━━\u001b[0m\u001b[37m\u001b[0m \u001b[1m689s\u001b[0m 2s/step - accuracy: 0.9979 - loss: 0.0075 - val_accuracy: 0.9108 - val_loss: 0.6672 - learning_rate: 5.0000e-04\n"
     ]
    }
   ],
   "source": [
    "## Set training parameters\n",
    "## Sets epochs\n",
    "EPOCHS = 20\n",
    "\n",
    "## EarlyStopping - Add callback to monitor the validation accuracy and stop training after 3 epochs if the accuracy stops improving and reverts the weights back to where the model was still improving and had converged, this helps prevent overfitting\n",
    "##ReduceLROnPlateau - Add callback to monitor the validation accuracy and reduce the learning rate once performance starts to palteau, factor says multiply the learning rate by this value, patience say wait two epochs before reducing again, min_lr says don't go below this learning rate\n",
    "## Updated monitor from val_loss to val_accuracy\n",
    "## Setting mode='max' to maximize accuracy\n",
    "## Increased the factor for reducing the learning rate\n",
    "callbacks = [\n",
    "    tf.keras.callbacks.EarlyStopping(\n",
    "        monitor='val_accuracy',\n",
    "        patience=3,\n",
    "        restore_best_weights=True,\n",
    "        mode='max'\n",
    "    ),\n",
    "    tf.keras.callbacks.ReduceLROnPlateau(\n",
    "        monitor='val_accuracy',\n",
    "        factor=0.5,\n",
    "        patience=2,\n",
    "        min_lr=1e-6,\n",
    "        mode='max'\n",
    "    )\n",
    "]\n",
    "\n",
    "## Train the model using the train_dataset, number of epochs, specifying the validation set as validation_dataset, and point to the callback defined above\n",
    "history = model.fit(\n",
    "    train_dataset,\n",
    "    epochs=EPOCHS,\n",
    "    validation_data=validation_dataset,\n",
    "    callbacks=callbacks\n",
    ")"
   ]
  },
  {
   "cell_type": "markdown",
   "id": "7dfc198c-01a5-45e0-913d-9e4b9afd575e",
   "metadata": {},
   "source": [
    "###### Plot the training history"
   ]
  },
  {
   "cell_type": "code",
   "execution_count": 12,
   "id": "eb839114-a061-4cd8-9ec0-7927ddc2eb13",
   "metadata": {},
   "outputs": [
    {
     "data": {
      "image/png": "[encoded data removed]",
      "text/plain": [
       "<Figure size 1200x400 with 2 Axes>"
      ]
     },
     "metadata": {},
     "output_type": "display_data"
    }
   ],
   "source": [
    "## Plot the training history\n",
    "def plot_training_history(history):\n",
    "    fig, (ax1, ax2) = plt.subplots(1, 2, figsize=(12, 4))\n",
    "    \n",
    "    ## Plot the accuracy\n",
    "    ax1.plot(history.history['accuracy'], label='Training')\n",
    "    ax1.plot(history.history['val_accuracy'], label='Validation')\n",
    "    ax1.set_title('Model Accuracy')\n",
    "    ax1.set_xlabel('Epoch')\n",
    "    ax1.set_ylabel('Accuracy')\n",
    "    ax1.legend()\n",
    "    \n",
    "    ## Plot the loss\n",
    "    ax2.plot(history.history['loss'], label='Training')\n",
    "    ax2.plot(history.history['val_loss'], label='Validation')\n",
    "    ax2.set_title('Model Loss')\n",
    "    ax2.set_xlabel('Epoch')\n",
    "    ax2.set_ylabel('Loss')\n",
    "    ax2.legend()\n",
    "    \n",
    "    plt.tight_layout()\n",
    "    plt.show()\n",
    "\n",
    "## Show the training results\n",
    "plot_training_history(history)"
   ]
  },
  {
   "cell_type": "markdown",
   "id": "e5fbbd3c-a36b-445f-93de-161f07423ae9",
   "metadata": {},
   "source": [
    "###### Function to assemble the models class predictions"
   ]
  },
  {
   "cell_type": "code",
   "execution_count": null,
   "id": "2753f6d2-aa98-4c4b-a146-2407b1e53e38",
   "metadata": {},
   "outputs": [],
   "source": [
    "## Function to assemble the models class predictions\n",
    "def get_predictions():\n",
    "    image_ids = []\n",
    "    predictions = []\n",
    "    \n",
    "    print(\"Getting predictions for test set...\")\n",
    "    batch_count = 0\n",
    "    \n",
    "    # Get predictions for test set (now properly batched)\n",
    "    for batch_images, batch_image_names in test_dataset:\n",
    "        batch_count += 1\n",
    "        print(f\"Processing batch {batch_count}, batch shape: {batch_images.shape}\")\n",
    "        \n",
    "        # Get predictions for this batch\n",
    "        pred = model.predict(batch_images, verbose=0)\n",
    "        pred_labels = tf.argmax(pred, axis=1)\n",
    "        \n",
    "        # Convert tensor to numpy for easier handling\n",
    "        batch_image_names = batch_image_names.numpy()\n",
    "        pred_labels = pred_labels.numpy()\n",
    "        \n",
    "        # Extend our lists\n",
    "        image_ids.extend([name.decode('utf-8') for name in batch_image_names])\n",
    "        predictions.extend(pred_labels)\n",
    "    \n",
    "    print(f\"Total predictions made: {len(predictions)}\")\n",
    "    return image_ids, predictions"
   ]
  },
  {
   "cell_type": "markdown",
   "id": "5961c341-aaed-409e-9d1f-af3d754cf2df",
   "metadata": {},
   "source": [
    "###### Function to create the submission"
   ]
  },
  {
   "cell_type": "code",
   "execution_count": null,
   "id": "5b60149e-2bd7-4e07-a6d3-cd2320055105",
   "metadata": {},
   "outputs": [],
   "source": [
    "def create_submission():\n",
    "    # Get predictions\n",
    "    image_ids, predictions = get_predictions()\n",
    "    \n",
    "    # Create submission DataFrame\n",
    "    submission_df = pd.DataFrame({\n",
    "        'id': image_ids,\n",
    "        'label': predictions\n",
    "    })\n",
    "    \n",
    "    # Save submission file\n",
    "    submission_df.to_csv('submission.csv', index=False)\n",
    "    print(\"Submission file created!\")\n",
    "    \n",
    "# Create submission after training\n",
    "create_submission()"
   ]
  }
 ],
 "metadata": {
  "kernelspec": {
   "display_name": "Python 3 (ipykernel)",
   "language": "python",
   "name": "python3"
  },
  "language_info": {
   "codemirror_mode": {
    "name": "ipython",
    "version": 3
   },
   "file_extension": ".py",
   "mimetype": "text/x-python",
   "name": "python",
   "nbconvert_exporter": "python",
   "pygments_lexer": "ipython3",
   "version": "3.11.10"
  }
 },
 "nbformat": 4,
 "nbformat_minor": 5
}
