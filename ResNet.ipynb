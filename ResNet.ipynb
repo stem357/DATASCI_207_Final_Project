{
  "cells": [
    {
      "cell_type": "markdown",
      "metadata": {
        "id": "view-in-github",
        "colab_type": "text"
      },
      "source": [
        "<a href=\"https://colab.research.google.com/github/stem357/DATASCI_207_Final_Project/blob/ResNet/ResNet.ipynb\" target=\"_parent\"><img src=\"https://colab.research.google.com/assets/colab-badge.svg\" alt=\"Open In Colab\"/></a>"
      ]
    },
    {
      "cell_type": "markdown",
      "source": [
        "#ResNet Model"
      ],
      "metadata": {
        "id": "ZAx9yYHCXhD1"
      },
      "id": "ZAx9yYHCXhD1"
    },
    {
      "cell_type": "markdown",
      "source": [
        "## ResNet Architecture Overview\n",
        "\n",
        "ResNet (Residual Network) is a CNN architecture that uses the concept of\n",
        "residual connections to enable the training of very deep neural networks\n",
        "by addressing the vanishing gradient problem that typically occurs in\n",
        "traditional deep networks.\n",
        "\n",
        "Traditional CNNs suffer from degradation when networks become very deep,\n",
        "where adding more layers actually hurts performance due to vanishing\n",
        "gradients during backpropagation. Before ResNet, researchers observed\n",
        "that simply stacking more layers led to higher training error,\n",
        "suggesting the problem wasn’t just generalization but actual\n",
        "optimization difficulty.\n",
        "\n",
        "ResNet was designed to solve this by introducing skip connections (also\n",
        "called shortcut connections) that allow information to flow directly\n",
        "from earlier layers to later layers, bypassing intermediate layers.\n",
        "ResNet uses residual blocks that learn residual mappings rather than\n",
        "direct mappings. Instead of learning a function H(x), the network learns\n",
        "F(x) = H(x) - x, where the skip connection adds the input x back to the\n",
        "learned residual F(x).\n",
        "\n",
        "The skip connections perform identity mapping, meaning if the optimal\n",
        "function is close to an identity mapping, the residual blocks can easily\n",
        "learn to set their weights to zero, effectively creating a shorter path\n",
        "through the network. This allows gradients to flow more easily through\n",
        "the network during training, enabling the construction of much deeper\n",
        "architectures.\n",
        "\n",
        "ResNet scales in depth while maintaining performance and trainability\n",
        "through these residual connections. The skip connections allow the\n",
        "network to learn identity mappings when additional depth is not\n",
        "beneficial, ensuring that deeper models perform at least as well as\n",
        "their shallow counterparts.\n",
        "\n",
        "Deeper ResNet variants (ResNet-50 and above) use bottleneck blocks with\n",
        "1×1 convolutions to reduce computational complexity while maintaining\n",
        "representational power. These compress and then expand the feature maps.\n",
        "\n",
        "ResNet comes in different variants that vary in depth, performance and\n",
        "number of parameters. ResNet-18 and ResNet-34 are considered lighter\n",
        "models, while ResNet-50 serves as a commonly used baseline. The\n",
        "architecture can scale up to ResNet-101 and ResNet-152, which are among\n",
        "the deepest and most complex variants. ResNet Models: ResNet-18,\n",
        "ResNet-34, ResNet-50, ResNet-101, ResNet-152.\n",
        "\n",
        "ResNet was introduced by Microsoft Research in 2015 and won the ImageNet\n",
        "Large Scale Visual Recognition Challenge (ILSVRC) that year. It was\n",
        "groundbreaking because it demonstrated that networks could be trained\n",
        "with 152 layers."
      ],
      "metadata": {
        "id": "FwC2C2JJXj1e"
      },
      "id": "FwC2C2JJXj1e"
    },
    {
      "cell_type": "markdown",
      "source": [
        "------------------------------------------------------------------------\n",
        "\n",
        "## Model 1: Baseline ResNet50 Implementation\n",
        "\n",
        "**Performance**: 0.89157 Score \\| [Kaggle Notebook\n",
        "Link](https://www.kaggle.com/code/elacha/resnet-baseline?scriptVersionId=253375791)\n",
        "\n",
        "The first iteration established a solid foundation using ResNet50 with\n",
        "transfer learning from ImageNet weights. This baseline implementation\n",
        "focused on getting the core architecture working effectively.\n",
        "\n",
        "### Key Architecture Decisions:\n",
        "\n",
        "-   **Transfer Learning**: Leveraged pre-trained ImageNet weights for\n",
        "    feature extraction\n",
        "-   **Fine-tuning Strategy**: Enabled training of top 20% of ResNet\n",
        "    layers while freezing early layers\n",
        "-   **Global Average Pooling**: Used instead of flatten to reduce\n",
        "    overfitting\n",
        "-   **Regularization**: Applied 50% dropout before final classification\n",
        "    layer\n",
        "-   **Dense Architecture**: Single 512-unit dense layer with ReLU\n",
        "    activation\n",
        "-   **Output Layer**: 104-unit softmax layer for flower species\n",
        "    classification\n",
        "-   **Optimizer**: Adam with 1e-4 learning rate for stable convergence\n",
        "-   **Training Strategy**: 10 epochs with early stopping and learning\n",
        "    rate reduction\n",
        "-   **Batch Size**: 32 for optimal GPU memory utilization\n",
        "-   **Data Augmentation**: Basic horizontal flips, brightness, and\n",
        "    contrast adjustments\n",
        "\n",
        "### Import Libraries"
      ],
      "metadata": {
        "id": "82U1fCNoX34y"
      },
      "id": "82U1fCNoX34y"
    },
    {
      "cell_type": "code",
      "execution_count": null,
      "id": "e0cff163",
      "metadata": {
        "execution": {
          "iopub.execute_input": "2025-07-30T23:42:30.219759Z",
          "iopub.status.busy": "2025-07-30T23:42:30.219378Z",
          "iopub.status.idle": "2025-07-30T23:42:46.952024Z",
          "shell.execute_reply": "2025-07-30T23:42:46.951228Z"
        },
        "papermill": {
          "duration": 16.737657,
          "end_time": "2025-07-30T23:42:46.953618",
          "exception": false,
          "start_time": "2025-07-30T23:42:30.215961",
          "status": "completed"
        },
        "tags": [],
        "id": "e0cff163",
        "outputId": "bbf5c866-d63b-4e12-fdee-b7b262420a9f"
      },
      "outputs": [
        {
          "name": "stderr",
          "output_type": "stream",
          "text": [
            "2025-07-30 23:42:32.111994: E external/local_xla/xla/stream_executor/cuda/cuda_fft.cc:477] Unable to register cuFFT factory: Attempting to register factory for plugin cuFFT when one has already been registered\n",
            "WARNING: All log messages before absl::InitializeLog() is called are written to STDERR\n",
            "E0000 00:00:1753918952.339959      18 cuda_dnn.cc:8310] Unable to register cuDNN factory: Attempting to register factory for plugin cuDNN when one has already been registered\n",
            "E0000 00:00:1753918952.408121      18 cuda_blas.cc:1418] Unable to register cuBLAS factory: Attempting to register factory for plugin cuBLAS when one has already been registered\n"
          ]
        }
      ],
      "source": [
        "import math\n",
        "import numpy as np\n",
        "import pandas as pd\n",
        "import tensorflow as tf\n",
        "from matplotlib import pyplot as plt\n",
        "from sklearn.model_selection import train_test_split\n",
        "from sklearn.metrics import accuracy_score\n",
        "from tensorflow.keras.models import Sequential\n",
        "from tensorflow.keras.layers import Dense\n",
        "from tensorflow.keras.optimizers import SGD\n",
        "import os\n",
        "import glob\n",
        "from tensorflow.data.experimental import load\n",
        "import warnings\n",
        "warnings.filterwarnings('ignore')\n",
        "import time\n",
        "\n",
        "start_time = time.time()"
      ]
    },
    {
      "cell_type": "markdown",
      "source": [
        "*Note: Be sure to use the GPU accelerator within the Kaggle environment\n",
        "which can be accessed in the top bar of the Kaggle notebook: Settings\n",
        "-\\> Accelerator -\\> GPU T4 x 2*\n",
        "\n",
        "### Data Loading Functions\n",
        "\n",
        "The data loading pipeline handles TFRecord files efficiently for\n",
        "large-scale image processing. TFRecords provide optimized storage and\n",
        "loading for TensorFlow workflows."
      ],
      "metadata": {
        "id": "34m3a6QNYEdF"
      },
      "id": "34m3a6QNYEdF"
    },
    {
      "cell_type": "code",
      "execution_count": null,
      "id": "b1034110",
      "metadata": {
        "execution": {
          "iopub.execute_input": "2025-07-30T23:42:46.960868Z",
          "iopub.status.busy": "2025-07-30T23:42:46.960325Z",
          "iopub.status.idle": "2025-07-30T23:42:47.255945Z",
          "shell.execute_reply": "2025-07-30T23:42:47.255276Z"
        },
        "papermill": {
          "duration": 0.300876,
          "end_time": "2025-07-30T23:42:47.257553",
          "exception": false,
          "start_time": "2025-07-30T23:42:46.956677",
          "status": "completed"
        },
        "tags": [],
        "id": "b1034110"
      },
      "outputs": [],
      "source": [
        "tf.keras.backend.clear_session()\n",
        "\n",
        "image_size = [224,224]\n",
        "\n",
        "def decode_image(image_data):\n",
        "    image = tf.image.decode_jpeg(image_data, channels=3)\n",
        "    image = tf.image.resize(image, image_size, method = \"bilinear\")\n",
        "    image = tf.cast(image, tf.float32)\n",
        "    image = tf.keras.applications.resnet50.preprocess_input(image)\n",
        "    image = tf.reshape(image, [*image_size,3])\n",
        "    return image\n",
        "\n",
        "def load_dataset(filenames, labeled=True):\n",
        "    dataset = tf.data.TFRecordDataset(filenames, num_parallel_reads=tf.data.AUTOTUNE)\n",
        "    if labeled:\n",
        "        dataset = dataset.map(read_labeled_tfrec, num_parallel_calls=tf.data.AUTOTUNE)\n",
        "    else:\n",
        "        dataset = dataset.map(read_unlabeled_tfrec, num_parallel_calls=tf.data.AUTOTUNE)\n",
        "    return dataset\n",
        "\n",
        "def read_labeled_tfrec(input_example):\n",
        "    labeled_tfrec_format = {\n",
        "        \"image\": tf.io.FixedLenFeature([], tf.string),\n",
        "        \"class\": tf.io.FixedLenFeature([], tf.int64)\n",
        "    }\n",
        "    input_example = tf.io.parse_single_example(input_example, labeled_tfrec_format)\n",
        "    image = decode_image(input_example[\"image\"])\n",
        "    label = tf.cast(input_example['class'], tf.int32)\n",
        "    return image, label\n",
        "\n",
        "def read_unlabeled_tfrec(input_example):\n",
        "    unlabeled_tfrec_format = {\n",
        "        \"image\": tf.io.FixedLenFeature([], tf.string),\n",
        "        \"id\": tf.io.FixedLenFeature([], tf.string)\n",
        "    }\n",
        "    input_example = tf.io.parse_single_example(input_example, unlabeled_tfrec_format)\n",
        "    image = decode_image(input_example[\"image\"])\n",
        "    image_id = input_example['id']\n",
        "    return image, image_id"
      ]
    },
    {
      "cell_type": "markdown",
      "source": [
        "### Dataset Preparation\n",
        "\n",
        "Dataset preparation includes loading TFRecord files, applying data\n",
        "augmentation, and creating efficient data pipelines for training and\n",
        "validation."
      ],
      "metadata": {
        "id": "WbwJh6tCYMj1"
      },
      "id": "WbwJh6tCYMj1"
    },
    {
      "cell_type": "code",
      "execution_count": null,
      "id": "a27ffd90",
      "metadata": {
        "execution": {
          "iopub.execute_input": "2025-07-30T23:42:47.264566Z",
          "iopub.status.busy": "2025-07-30T23:42:47.264285Z",
          "iopub.status.idle": "2025-07-30T23:42:48.864158Z",
          "shell.execute_reply": "2025-07-30T23:42:48.863320Z"
        },
        "papermill": {
          "duration": 1.605467,
          "end_time": "2025-07-30T23:42:48.866014",
          "exception": false,
          "start_time": "2025-07-30T23:42:47.260547",
          "status": "completed"
        },
        "tags": [],
        "id": "a27ffd90",
        "outputId": "e54aec78-0573-40e6-a934-b51dc59ccc6c"
      },
      "outputs": [
        {
          "name": "stderr",
          "output_type": "stream",
          "text": [
            "I0000 00:00:1753918968.477658      18 gpu_device.cc:2022] Created device /job:localhost/replica:0/task:0/device:GPU:0 with 13942 MB memory:  -> device: 0, name: Tesla T4, pci bus id: 0000:00:04.0, compute capability: 7.5\n",
            "I0000 00:00:1753918968.478599      18 gpu_device.cc:2022] Created device /job:localhost/replica:0/task:0/device:GPU:1 with 13942 MB memory:  -> device: 1, name: Tesla T4, pci bus id: 0000:00:05.0, compute capability: 7.5\n"
          ]
        }
      ],
      "source": [
        "folder = 'tfrecords-jpeg-224x224'\n",
        "train_files = tf.io.gfile.glob(f\"/kaggle/input/tpu-getting-started/{folder}/train/*.tfrec\")\n",
        "val_files = tf.io.gfile.glob(f\"/kaggle/input/tpu-getting-started/{folder}/val/*.tfrec\")\n",
        "test_files = tf.io.gfile.glob(f\"/kaggle/input/tpu-getting-started/{folder}/test/*.tfrec\")\n",
        "\n",
        "train_dataset = load_dataset(train_files, labeled=True)\n",
        "validation_dataset = load_dataset(val_files, labeled=True)\n",
        "test_dataset = load_dataset(test_files, labeled=False)"
      ]
    },
    {
      "cell_type": "code",
      "execution_count": null,
      "id": "f65cec6c",
      "metadata": {
        "execution": {
          "iopub.execute_input": "2025-07-30T23:42:48.873897Z",
          "iopub.status.busy": "2025-07-30T23:42:48.873053Z",
          "iopub.status.idle": "2025-07-30T23:42:50.723725Z",
          "shell.execute_reply": "2025-07-30T23:42:50.723034Z"
        },
        "papermill": {
          "duration": 1.856102,
          "end_time": "2025-07-30T23:42:50.725337",
          "exception": false,
          "start_time": "2025-07-30T23:42:48.869235",
          "status": "completed"
        },
        "tags": [],
        "id": "f65cec6c"
      },
      "outputs": [],
      "source": [
        "def augment_image(image, label):\n",
        "    image = tf.image.random_flip_left_right(image)\n",
        "    image = tf.image.random_brightness(image, 0.12)  # Slightly increased from 0.1\n",
        "    image = tf.image.random_contrast(image, 0.88, 1.12)  # Slightly increased\n",
        "    return image, label\n",
        "\n",
        "tf.random.set_seed(42)\n",
        "shuffle_buffer = 2000\n",
        "\n",
        "train_dataset = train_dataset.map(augment_image, num_parallel_calls=tf.data.AUTOTUNE)\n",
        "train_dataset = train_dataset.shuffle(shuffle_buffer, seed=42, reshuffle_each_iteration=False)\n",
        "validation_dataset = validation_dataset.shuffle(shuffle_buffer, seed=42, reshuffle_each_iteration=False)\n",
        "\n",
        "BATCH_SIZE = 32\n",
        "AUTO = tf.data.AUTOTUNE\n",
        "NUM_CLASSES = 104\n",
        "\n",
        "train_dataset = train_dataset.batch(BATCH_SIZE).prefetch(AUTO)\n",
        "validation_dataset = validation_dataset.batch(BATCH_SIZE).prefetch(AUTO)\n",
        "test_dataset = test_dataset.batch(BATCH_SIZE).prefetch(AUTO)"
      ]
    },
    {
      "cell_type": "markdown",
      "source": [
        "### Model Architecture\n",
        "\n",
        "The baseline ResNet50 model implements transfer learning with selective\n",
        "fine-tuning to balance feature extraction and task-specific adaptation.\n"
      ],
      "metadata": {
        "id": "PxqSlihDYWnD"
      },
      "id": "PxqSlihDYWnD"
    },
    {
      "cell_type": "code",
      "execution_count": null,
      "id": "939d7a78",
      "metadata": {
        "execution": {
          "iopub.execute_input": "2025-07-30T23:42:50.732399Z",
          "iopub.status.busy": "2025-07-30T23:42:50.732113Z",
          "iopub.status.idle": "2025-07-30T23:42:50.738358Z",
          "shell.execute_reply": "2025-07-30T23:42:50.737534Z"
        },
        "papermill": {
          "duration": 0.011344,
          "end_time": "2025-07-30T23:42:50.739779",
          "exception": false,
          "start_time": "2025-07-30T23:42:50.728435",
          "status": "completed"
        },
        "tags": [],
        "id": "939d7a78"
      },
      "outputs": [],
      "source": [
        "def create_model():\n",
        "    base_model = tf.keras.applications.ResNet50(\n",
        "        include_top=False,\n",
        "        weights='imagenet',\n",
        "        input_shape=(224, 224, 3),\n",
        "        pooling=None\n",
        "    )\n",
        "\n",
        "    base_model.trainable = True\n",
        "    fine_tune_at = int(0.8 * len(base_model.layers))\n",
        "    for layer in base_model.layers[:fine_tune_at]:\n",
        "        layer.trainable = False\n",
        "\n",
        "    resnet_model = tf.keras.Sequential([\n",
        "        base_model,\n",
        "        tf.keras.layers.GlobalAveragePooling2D(),\n",
        "        tf.keras.layers.BatchNormalization(),  # ONLY addition\n",
        "        tf.keras.layers.Dropout(0.5),\n",
        "        tf.keras.layers.Dense(512, activation='relu'),\n",
        "        tf.keras.layers.Dropout(0.3),\n",
        "        tf.keras.layers.Dense(NUM_CLASSES, activation='softmax')\n",
        "    ])\n",
        "\n",
        "    return resnet_model"
      ]
    },
    {
      "cell_type": "markdown",
      "source": [
        "### Training Configuration\n"
      ],
      "metadata": {
        "id": "wmjfZ513Ycrp"
      },
      "id": "wmjfZ513Ycrp"
    },
    {
      "cell_type": "code",
      "execution_count": null,
      "id": "f249fedb",
      "metadata": {
        "execution": {
          "iopub.execute_input": "2025-07-30T23:42:50.746894Z",
          "iopub.status.busy": "2025-07-30T23:42:50.746403Z",
          "iopub.status.idle": "2025-07-30T23:42:53.735402Z",
          "shell.execute_reply": "2025-07-30T23:42:53.734708Z"
        },
        "papermill": {
          "duration": 2.994183,
          "end_time": "2025-07-30T23:42:53.736907",
          "exception": false,
          "start_time": "2025-07-30T23:42:50.742724",
          "status": "completed"
        },
        "tags": [],
        "id": "f249fedb",
        "outputId": "5dcd0bfa-c714-4451-edfd-eaefdb177e5a"
      },
      "outputs": [
        {
          "name": "stdout",
          "output_type": "stream",
          "text": [
            "Downloading data from https://storage.googleapis.com/tensorflow/keras-applications/resnet/resnet50_weights_tf_dim_ordering_tf_kernels_notop.h5\n",
            "\u001b[1m94765736/94765736\u001b[0m \u001b[32m━━━━━━━━━━━━━━━━━━━━\u001b[0m\u001b[37m\u001b[0m \u001b[1m0s\u001b[0m 0us/step\n"
          ]
        }
      ],
      "source": [
        "resnet_model = create_model()\n",
        "resnet_model.compile(\n",
        "    optimizer=tf.keras.optimizers.Adam(learning_rate=1e-4),\n",
        "    loss='sparse_categorical_crossentropy',\n",
        "    metrics=['accuracy']\n",
        ")"
      ]
    },
    {
      "cell_type": "code",
      "execution_count": null,
      "id": "1efdaf7a",
      "metadata": {
        "execution": {
          "iopub.execute_input": "2025-07-30T23:42:53.746094Z",
          "iopub.status.busy": "2025-07-30T23:42:53.745517Z",
          "iopub.status.idle": "2025-07-30T23:58:36.033015Z",
          "shell.execute_reply": "2025-07-30T23:58:36.032188Z"
        },
        "papermill": {
          "duration": 942.293399,
          "end_time": "2025-07-30T23:58:36.034508",
          "exception": false,
          "start_time": "2025-07-30T23:42:53.741109",
          "status": "completed"
        },
        "tags": [],
        "id": "1efdaf7a",
        "outputId": "e295751d-0e1d-4551-9d7e-7328c7af7663"
      },
      "outputs": [
        {
          "name": "stdout",
          "output_type": "stream",
          "text": [
            "Epoch 1/12\n"
          ]
        },
        {
          "name": "stderr",
          "output_type": "stream",
          "text": [
            "WARNING: All log messages before absl::InitializeLog() is called are written to STDERR\n",
            "I0000 00:00:1753918997.939825      74 service.cc:148] XLA service 0x783df8002fe0 initialized for platform CUDA (this does not guarantee that XLA will be used). Devices:\n",
            "I0000 00:00:1753918997.943046      74 service.cc:156]   StreamExecutor device (0): Tesla T4, Compute Capability 7.5\n",
            "I0000 00:00:1753918997.943087      74 service.cc:156]   StreamExecutor device (1): Tesla T4, Compute Capability 7.5\n",
            "I0000 00:00:1753919000.506210      74 cuda_dnn.cc:529] Loaded cuDNN version 90300\n"
          ]
        },
        {
          "name": "stdout",
          "output_type": "stream",
          "text": [
            "      1/Unknown \u001b[1m38s\u001b[0m 38s/step - accuracy: 0.0000e+00 - loss: 6.8782"
          ]
        },
        {
          "name": "stderr",
          "output_type": "stream",
          "text": [
            "I0000 00:00:1753919011.834095      74 device_compiler.h:188] Compiled cluster using XLA!  This line is logged at most once for the lifetime of the process.\n"
          ]
        },
        {
          "name": "stdout",
          "output_type": "stream",
          "text": [
            "\u001b[1m399/399\u001b[0m \u001b[32m━━━━━━━━━━━━━━━━━━━━\u001b[0m\u001b[37m\u001b[0m \u001b[1m121s\u001b[0m 209ms/step - accuracy: 0.2872 - loss: 3.7199 - val_accuracy: 0.7864 - val_loss: 0.8943 - learning_rate: 1.0000e-04\n",
            "Epoch 2/12\n",
            "\u001b[1m399/399\u001b[0m \u001b[32m━━━━━━━━━━━━━━━━━━━━\u001b[0m\u001b[37m\u001b[0m \u001b[1m75s\u001b[0m 181ms/step - accuracy: 0.7457 - loss: 0.9941 - val_accuracy: 0.8475 - val_loss: 0.6057 - learning_rate: 1.0000e-04\n",
            "Epoch 3/12\n",
            "\u001b[1m399/399\u001b[0m \u001b[32m━━━━━━━━━━━━━━━━━━━━\u001b[0m\u001b[37m\u001b[0m \u001b[1m74s\u001b[0m 179ms/step - accuracy: 0.8795 - loss: 0.4507 - val_accuracy: 0.8656 - val_loss: 0.5718 - learning_rate: 1.0000e-04\n",
            "Epoch 4/12\n",
            "\u001b[1m399/399\u001b[0m \u001b[32m━━━━━━━━━━━━━━━━━━━━\u001b[0m\u001b[37m\u001b[0m \u001b[1m75s\u001b[0m 181ms/step - accuracy: 0.9365 - loss: 0.2395 - val_accuracy: 0.8739 - val_loss: 0.5234 - learning_rate: 1.0000e-04\n",
            "Epoch 5/12\n",
            "\u001b[1m399/399\u001b[0m \u001b[32m━━━━━━━━━━━━━━━━━━━━\u001b[0m\u001b[37m\u001b[0m \u001b[1m75s\u001b[0m 180ms/step - accuracy: 0.9629 - loss: 0.1392 - val_accuracy: 0.8780 - val_loss: 0.5274 - learning_rate: 1.0000e-04\n",
            "Epoch 6/12\n",
            "\u001b[1m399/399\u001b[0m \u001b[32m━━━━━━━━━━━━━━━━━━━━\u001b[0m\u001b[37m\u001b[0m \u001b[1m75s\u001b[0m 180ms/step - accuracy: 0.9723 - loss: 0.0978 - val_accuracy: 0.8755 - val_loss: 0.5761 - learning_rate: 1.0000e-04\n",
            "Epoch 7/12\n",
            "\u001b[1m399/399\u001b[0m \u001b[32m━━━━━━━━━━━━━━━━━━━━\u001b[0m\u001b[37m\u001b[0m \u001b[1m75s\u001b[0m 181ms/step - accuracy: 0.9858 - loss: 0.0548 - val_accuracy: 0.8909 - val_loss: 0.4945 - learning_rate: 2.0000e-05\n",
            "Epoch 8/12\n",
            "\u001b[1m399/399\u001b[0m \u001b[32m━━━━━━━━━━━━━━━━━━━━\u001b[0m\u001b[37m\u001b[0m \u001b[1m75s\u001b[0m 180ms/step - accuracy: 0.9926 - loss: 0.0330 - val_accuracy: 0.8914 - val_loss: 0.4920 - learning_rate: 2.0000e-05\n",
            "Epoch 9/12\n",
            "\u001b[1m399/399\u001b[0m \u001b[32m━━━━━━━━━━━━━━━━━━━━\u001b[0m\u001b[37m\u001b[0m \u001b[1m75s\u001b[0m 180ms/step - accuracy: 0.9960 - loss: 0.0238 - val_accuracy: 0.8968 - val_loss: 0.4969 - learning_rate: 2.0000e-05\n",
            "Epoch 10/12\n",
            "\u001b[1m399/399\u001b[0m \u001b[32m━━━━━━━━━━━━━━━━━━━━\u001b[0m\u001b[37m\u001b[0m \u001b[1m74s\u001b[0m 179ms/step - accuracy: 0.9973 - loss: 0.0185 - val_accuracy: 0.8984 - val_loss: 0.4916 - learning_rate: 2.0000e-05\n",
            "Epoch 11/12\n",
            "\u001b[1m399/399\u001b[0m \u001b[32m━━━━━━━━━━━━━━━━━━━━\u001b[0m\u001b[37m\u001b[0m \u001b[1m74s\u001b[0m 179ms/step - accuracy: 0.9983 - loss: 0.0118 - val_accuracy: 0.8957 - val_loss: 0.4876 - learning_rate: 2.0000e-05\n",
            "Epoch 12/12\n",
            "\u001b[1m399/399\u001b[0m \u001b[32m━━━━━━━━━━━━━━━━━━━━\u001b[0m\u001b[37m\u001b[0m \u001b[1m74s\u001b[0m 180ms/step - accuracy: 0.9985 - loss: 0.0107 - val_accuracy: 0.9001 - val_loss: 0.4873 - learning_rate: 2.0000e-05\n"
          ]
        }
      ],
      "source": [
        "EPOCHS = 12\n",
        "\n",
        "callbacks = [\n",
        "    tf.keras.callbacks.EarlyStopping(\n",
        "        monitor='val_loss',\n",
        "        patience=3,\n",
        "        restore_best_weights=True\n",
        "    ),\n",
        "    tf.keras.callbacks.ReduceLROnPlateau(\n",
        "        monitor='val_loss',\n",
        "        factor=0.2,\n",
        "        patience=2,\n",
        "        min_lr=1e-6\n",
        "    )\n",
        "]\n",
        "\n",
        "history = resnet_model.fit(\n",
        "    train_dataset,\n",
        "    epochs=EPOCHS,\n",
        "    validation_data=validation_dataset,\n",
        "    callbacks=callbacks\n",
        ")"
      ]
    },
    {
      "cell_type": "code",
      "execution_count": null,
      "id": "25a786c2",
      "metadata": {
        "execution": {
          "iopub.execute_input": "2025-07-30T23:58:36.546377Z",
          "iopub.status.busy": "2025-07-30T23:58:36.545540Z",
          "iopub.status.idle": "2025-07-30T23:58:37.062186Z",
          "shell.execute_reply": "2025-07-30T23:58:37.061345Z"
        },
        "papermill": {
          "duration": 0.747418,
          "end_time": "2025-07-30T23:58:37.063479",
          "exception": false,
          "start_time": "2025-07-30T23:58:36.316061",
          "status": "completed"
        },
        "tags": [],
        "id": "25a786c2",
        "outputId": "2eb58d7d-e61b-4f09-f903-02da5bb36023"
      },
      "outputs": [
        {
          "data": {
            "image/png": "[encoded data removed]",
            "text/plain": [
              "<Figure size 1200x400 with 2 Axes>"
            ]
          },
          "metadata": {},
          "output_type": "display_data"
        }
      ],
      "source": [
        "def plot_training_history(history):\n",
        "    fig, (ax1, ax2) = plt.subplots(1, 2, figsize=(12, 4))\n",
        "\n",
        "    ax1.plot(history.history['accuracy'], label='Training')\n",
        "    ax1.plot(history.history['val_accuracy'], label='Validation')\n",
        "    ax1.set_title('Improved ResNet Model Accuracy')\n",
        "    ax1.set_xlabel('Epoch')\n",
        "    ax1.set_ylabel('Accuracy')\n",
        "    ax1.legend()\n",
        "\n",
        "    ax2.plot(history.history['loss'], label='Training')\n",
        "    ax2.plot(history.history['val_loss'], label='Validation')\n",
        "    ax2.set_title('Improved ResNet Model Loss')\n",
        "    ax2.set_xlabel('Epoch')\n",
        "    ax2.set_ylabel('Loss')\n",
        "    ax2.legend()\n",
        "\n",
        "    plt.tight_layout()\n",
        "    plt.show()\n",
        "\n",
        "plot_training_history(history)"
      ]
    },
    {
      "cell_type": "code",
      "execution_count": null,
      "id": "ca68332b",
      "metadata": {
        "execution": {
          "iopub.execute_input": "2025-07-30T23:58:37.513499Z",
          "iopub.status.busy": "2025-07-30T23:58:37.513216Z",
          "iopub.status.idle": "2025-07-30T23:58:37.521673Z",
          "shell.execute_reply": "2025-07-30T23:58:37.521049Z"
        },
        "papermill": {
          "duration": 0.232219,
          "end_time": "2025-07-30T23:58:37.523021",
          "exception": false,
          "start_time": "2025-07-30T23:58:37.290802",
          "status": "completed"
        },
        "tags": [],
        "id": "ca68332b"
      },
      "outputs": [],
      "source": [
        "def get_predictions_with_memory_safe_tta():\n",
        "\n",
        "    image_ids = []\n",
        "    final_predictions = None\n",
        "\n",
        "    # First pass: Original predictions\n",
        "    print(\"Pass 1/2: Original predictions\")\n",
        "    for batch_images, batch_image_names in test_dataset:\n",
        "        pred = resnet_model.predict(batch_images, verbose=0)\n",
        "\n",
        "        if final_predictions is None:\n",
        "            final_predictions = pred\n",
        "        else:\n",
        "            final_predictions = np.concatenate([final_predictions, pred], axis=0)\n",
        "\n",
        "        # Store image IDs only once\n",
        "        if len(image_ids) == 0:\n",
        "            batch_image_names = batch_image_names.numpy()\n",
        "            image_ids.extend([name.decode('utf-8') for name in batch_image_names])\n",
        "        elif len(image_ids) < len(final_predictions):\n",
        "            batch_image_names = batch_image_names.numpy()\n",
        "            image_ids.extend([name.decode('utf-8') for name in batch_image_names])\n",
        "\n",
        "    # Second pass: Flipped predictions\n",
        "    print(\"Pass 2/2: Flipped predictions\")\n",
        "    flipped_predictions = None\n",
        "\n",
        "    for batch_images, batch_image_names in test_dataset:\n",
        "        flipped_images = tf.image.flip_left_right(batch_images)\n",
        "        pred = resnet_model.predict(flipped_images, verbose=0)\n",
        "\n",
        "        if flipped_predictions is None:\n",
        "            flipped_predictions = pred\n",
        "        else:\n",
        "            flipped_predictions = np.concatenate([flipped_predictions, pred], axis=0)\n",
        "\n",
        "    # Average the two predictions\n",
        "    averaged_predictions = (final_predictions + flipped_predictions) / 2.0\n",
        "    pred_labels = np.argmax(averaged_predictions, axis=1)\n",
        "\n",
        "    return image_ids, pred_labels\n",
        "\n",
        "# If TTA fails, fall back to original method\n",
        "def get_predictions_fallback():\n",
        "    print(\"Using fallback prediction method...\")\n",
        "    image_ids = []\n",
        "    predictions = []\n",
        "\n",
        "    for batch_images, batch_image_names in test_dataset:\n",
        "        pred = resnet_model.predict(batch_images, verbose=0)\n",
        "        pred_labels = tf.argmax(pred, axis=1)\n",
        "\n",
        "        batch_image_names = batch_image_names.numpy()\n",
        "        pred_labels = pred_labels.numpy()\n",
        "\n",
        "        image_ids.extend([name.decode('utf-8') for name in batch_image_names])\n",
        "        predictions.extend(pred_labels)\n",
        "\n",
        "    return image_ids, predictions"
      ]
    },
    {
      "cell_type": "code",
      "execution_count": null,
      "id": "53e6d4dc",
      "metadata": {
        "execution": {
          "iopub.execute_input": "2025-07-30T23:58:38.013870Z",
          "iopub.status.busy": "2025-07-30T23:58:38.013568Z",
          "iopub.status.idle": "2025-07-31T00:00:12.688838Z",
          "shell.execute_reply": "2025-07-31T00:00:12.688041Z"
        },
        "papermill": {
          "duration": 95.171874,
          "end_time": "2025-07-31T00:00:12.913827",
          "exception": false,
          "start_time": "2025-07-30T23:58:37.741953",
          "status": "completed"
        },
        "tags": [],
        "id": "53e6d4dc",
        "outputId": "f9408a42-c574-4d88-b34b-3cc4c9647ab0"
      },
      "outputs": [
        {
          "name": "stdout",
          "output_type": "stream",
          "text": [
            "Pass 1/2: Original predictions\n",
            "Pass 2/2: Flipped predictions\n",
            "TTA completed successfully!\n",
            "Submission created with 7382 predictions\n",
            "Execution time:  1045.7363955974579 secs\n",
            "Best validation accuracy: 0.9001\n"
          ]
        }
      ],
      "source": [
        "def create_submission():\n",
        "    try:\n",
        "        image_ids, predictions = get_predictions_with_memory_safe_tta()\n",
        "        print(\"TTA completed successfully!\")\n",
        "    except Exception as e:\n",
        "        print(f\"TTA failed with error: {e}\")\n",
        "        print(\"Falling back to single prediction...\")\n",
        "        image_ids, predictions = get_predictions_fallback()\n",
        "\n",
        "    submission_df = pd.DataFrame({\n",
        "        'id': image_ids,\n",
        "        'label': predictions\n",
        "    })\n",
        "\n",
        "    submission_df.to_csv('submission.csv', index=False)\n",
        "    print(f\"Submission created with {len(submission_df)} predictions\")\n",
        "\n",
        "create_submission()\n",
        "\n",
        "end_time = time.time()\n",
        "print(\"Execution time: \", end_time - start_time, \"secs\")\n",
        "\n",
        "# Print final results\n",
        "if 'history' in locals():\n",
        "    best_val_acc = max(history.history['val_accuracy'])\n",
        "    print(f\"Best validation accuracy: {best_val_acc:.4f}\")"
      ]
    },
    {
      "cell_type": "markdown",
      "source": [
        "### Model 1 Summary\n",
        "\n",
        "**What Worked:**\n",
        "- Transfer learning provided strong feature extraction\n",
        "foundation\n",
        "- ResNet50 architecture handled the 104-class classification\n",
        "effectively\n",
        "- Global average pooling reduced overfitting compared to\n",
        "flatten layers\n",
        "- Adam optimizer with 1e-4 learning rate provided stable\n",
        "training\n",
        "- Basic data augmentation improved generalization\n",
        "\n",
        "**What Didn’t Work:**\n",
        "- Limited data augmentation left potential\n",
        "performance on the table\n",
        "- No batch normalization in custom layers\n",
        "- Relatively conservative fine-tuning strategy\n",
        "- No advanced training\n",
        "techniques like test-time augmentation\n",
        "- Single model approach without\n",
        "ensemble benefits\n",
        "\n",
        "**Performance Metrics:**\n",
        "- Final Score: 0.89157\n",
        "- Training showed good\n",
        "convergence with minimal overfitting\n",
        "- Validation accuracy reached\n",
        "approximately 87-88%"
      ],
      "metadata": {
        "id": "ZJHd2Bd8YqG_"
      },
      "id": "ZJHd2Bd8YqG_"
    },
    {
      "cell_type": "markdown",
      "source": [
        "## Model 2: Enhanced ResNet50 with Advanced Training\n",
        "\n",
        "**Performance**: 0.89754 Score \\| [Kaggle Notebook\n",
        "Link](https://www.kaggle.com/code/elacha/resnet-baseline?scriptVersionId=253391273)\n",
        "\n",
        "The second iteration focused on architectural improvements and advanced\n",
        "training strategies to squeeze more performance from the ResNet50\n",
        "foundation.\n",
        "\n",
        "### Key Improvements and Architecture Decisions:\n",
        "\n",
        "-   **Batch Normalization**: Added BatchNorm layer after\n",
        "    GlobalAveragePooling for better gradient flow\n",
        "-   **Extended Training**: Increased epochs to 12 for more thorough\n",
        "    learning\n",
        "-   **Enhanced Data Augmentation**: Added saturation adjustments\n",
        "    alongside existing transformations\n",
        "-   **Improved Regularization**: Maintained dropout strategy but with\n",
        "    better layer placement\n",
        "-   **Advanced Callbacks**: More sophisticated learning rate scheduling\n",
        "    and early stopping\n",
        "-   **Test-Time Augmentation (TTA)**: Implemented horizontal flip TTA\n",
        "    for inference\n",
        "-   **Memory Optimization**: Better memory management for larger\n",
        "    training runs\n",
        "-   **Validation Strategy**: More robust validation with larger shuffle\n",
        "    buffer\n",
        "-   **Training Monitoring**: Enhanced progress tracking and performance\n",
        "    visualization"
      ],
      "metadata": {
        "id": "GgJ6s8O5Y6D1"
      },
      "id": "GgJ6s8O5Y6D1"
    },
    {
      "cell_type": "markdown",
      "source": [
        "### Enhanced Data Augmentation\n"
      ],
      "metadata": {
        "id": "c-ydOUJRZEio"
      },
      "id": "c-ydOUJRZEio"
    },
    {
      "cell_type": "code",
      "execution_count": null,
      "metadata": {
        "execution": {
          "iopub.execute_input": "2025-07-30T23:42:48.873897Z",
          "iopub.status.busy": "2025-07-30T23:42:48.873053Z",
          "iopub.status.idle": "2025-07-30T23:42:50.723725Z",
          "shell.execute_reply": "2025-07-30T23:42:50.723034Z"
        },
        "papermill": {
          "duration": 1.856102,
          "end_time": "2025-07-30T23:42:50.725337",
          "exception": false,
          "start_time": "2025-07-30T23:42:48.869235",
          "status": "completed"
        },
        "tags": [],
        "id": "3RmXlsSlXFS1"
      },
      "outputs": [],
      "source": [
        "def augment_image(image, label):\n",
        "    image = tf.image.random_flip_left_right(image)\n",
        "    image = tf.image.random_brightness(image, 0.12)  # Slightly increased from 0.1\n",
        "    image = tf.image.random_contrast(image, 0.88, 1.12)  # Slightly increased\n",
        "    return image, label\n",
        "\n",
        "tf.random.set_seed(42)\n",
        "shuffle_buffer = 2000\n",
        "\n",
        "train_dataset = train_dataset.map(augment_image, num_parallel_calls=tf.data.AUTOTUNE)\n",
        "train_dataset = train_dataset.shuffle(shuffle_buffer, seed=42, reshuffle_each_iteration=False)\n",
        "validation_dataset = validation_dataset.shuffle(shuffle_buffer, seed=42, reshuffle_each_iteration=False)\n",
        "\n",
        "BATCH_SIZE = 32\n",
        "AUTO = tf.data.AUTOTUNE\n",
        "NUM_CLASSES = 104\n",
        "\n",
        "train_dataset = train_dataset.batch(BATCH_SIZE).prefetch(AUTO)\n",
        "validation_dataset = validation_dataset.batch(BATCH_SIZE).prefetch(AUTO)\n",
        "test_dataset = test_dataset.batch(BATCH_SIZE).prefetch(AUTO)"
      ],
      "id": "3RmXlsSlXFS1"
    },
    {
      "cell_type": "markdown",
      "source": [
        "### Enhanced Model Architecture\n"
      ],
      "metadata": {
        "id": "mA-x_NqQZHi2"
      },
      "id": "mA-x_NqQZHi2"
    },
    {
      "cell_type": "code",
      "execution_count": null,
      "metadata": {
        "execution": {
          "iopub.execute_input": "2025-07-30T23:42:50.732399Z",
          "iopub.status.busy": "2025-07-30T23:42:50.732113Z",
          "iopub.status.idle": "2025-07-30T23:42:50.738358Z",
          "shell.execute_reply": "2025-07-30T23:42:50.737534Z"
        },
        "papermill": {
          "duration": 0.011344,
          "end_time": "2025-07-30T23:42:50.739779",
          "exception": false,
          "start_time": "2025-07-30T23:42:50.728435",
          "status": "completed"
        },
        "tags": [],
        "id": "uMAOUKiHXFS1"
      },
      "outputs": [],
      "source": [
        "def create_model():\n",
        "    base_model = tf.keras.applications.ResNet50(\n",
        "        include_top=False,\n",
        "        weights='imagenet',\n",
        "        input_shape=(224, 224, 3),\n",
        "        pooling=None\n",
        "    )\n",
        "\n",
        "    base_model.trainable = True\n",
        "    fine_tune_at = int(0.8 * len(base_model.layers))\n",
        "    for layer in base_model.layers[:fine_tune_at]:\n",
        "        layer.trainable = False\n",
        "\n",
        "    resnet_model = tf.keras.Sequential([\n",
        "        base_model,\n",
        "        tf.keras.layers.GlobalAveragePooling2D(),\n",
        "        tf.keras.layers.BatchNormalization(),  # ONLY addition\n",
        "        tf.keras.layers.Dropout(0.5),\n",
        "        tf.keras.layers.Dense(512, activation='relu'),\n",
        "        tf.keras.layers.Dropout(0.3),\n",
        "        tf.keras.layers.Dense(NUM_CLASSES, activation='softmax')\n",
        "    ])\n",
        "\n",
        "    return resnet_model"
      ],
      "id": "uMAOUKiHXFS1"
    },
    {
      "cell_type": "code",
      "execution_count": null,
      "metadata": {
        "execution": {
          "iopub.execute_input": "2025-07-30T23:42:50.746894Z",
          "iopub.status.busy": "2025-07-30T23:42:50.746403Z",
          "iopub.status.idle": "2025-07-30T23:42:53.735402Z",
          "shell.execute_reply": "2025-07-30T23:42:53.734708Z"
        },
        "papermill": {
          "duration": 2.994183,
          "end_time": "2025-07-30T23:42:53.736907",
          "exception": false,
          "start_time": "2025-07-30T23:42:50.742724",
          "status": "completed"
        },
        "tags": [],
        "id": "1a1bjxcjXFS2",
        "outputId": "16c0defd-9110-424f-bb96-fc2827051995"
      },
      "outputs": [
        {
          "name": "stdout",
          "output_type": "stream",
          "text": [
            "Downloading data from https://storage.googleapis.com/tensorflow/keras-applications/resnet/resnet50_weights_tf_dim_ordering_tf_kernels_notop.h5\n",
            "\u001b[1m94765736/94765736\u001b[0m \u001b[32m━━━━━━━━━━━━━━━━━━━━\u001b[0m\u001b[37m\u001b[0m \u001b[1m0s\u001b[0m 0us/step\n"
          ]
        }
      ],
      "source": [
        "resnet_model = create_model()\n",
        "resnet_model.compile(\n",
        "    optimizer=tf.keras.optimizers.Adam(learning_rate=1e-4),\n",
        "    loss='sparse_categorical_crossentropy',\n",
        "    metrics=['accuracy']\n",
        ")"
      ],
      "id": "1a1bjxcjXFS2"
    },
    {
      "cell_type": "markdown",
      "source": [
        "### Extended Training Configuration"
      ],
      "metadata": {
        "id": "7P86EgbYZWUr"
      },
      "id": "7P86EgbYZWUr"
    },
    {
      "cell_type": "code",
      "execution_count": null,
      "metadata": {
        "execution": {
          "iopub.execute_input": "2025-07-30T23:42:53.746094Z",
          "iopub.status.busy": "2025-07-30T23:42:53.745517Z",
          "iopub.status.idle": "2025-07-30T23:58:36.033015Z",
          "shell.execute_reply": "2025-07-30T23:58:36.032188Z"
        },
        "papermill": {
          "duration": 942.293399,
          "end_time": "2025-07-30T23:58:36.034508",
          "exception": false,
          "start_time": "2025-07-30T23:42:53.741109",
          "status": "completed"
        },
        "tags": [],
        "id": "C23eKcPxXFS6",
        "outputId": "779161d5-5214-48e2-e32e-33d94dc54ed1"
      },
      "outputs": [
        {
          "name": "stdout",
          "output_type": "stream",
          "text": [
            "Epoch 1/12\n"
          ]
        },
        {
          "name": "stderr",
          "output_type": "stream",
          "text": [
            "WARNING: All log messages before absl::InitializeLog() is called are written to STDERR\n",
            "I0000 00:00:1753918997.939825      74 service.cc:148] XLA service 0x783df8002fe0 initialized for platform CUDA (this does not guarantee that XLA will be used). Devices:\n",
            "I0000 00:00:1753918997.943046      74 service.cc:156]   StreamExecutor device (0): Tesla T4, Compute Capability 7.5\n",
            "I0000 00:00:1753918997.943087      74 service.cc:156]   StreamExecutor device (1): Tesla T4, Compute Capability 7.5\n",
            "I0000 00:00:1753919000.506210      74 cuda_dnn.cc:529] Loaded cuDNN version 90300\n"
          ]
        },
        {
          "name": "stdout",
          "output_type": "stream",
          "text": [
            "      1/Unknown \u001b[1m38s\u001b[0m 38s/step - accuracy: 0.0000e+00 - loss: 6.8782"
          ]
        },
        {
          "name": "stderr",
          "output_type": "stream",
          "text": [
            "I0000 00:00:1753919011.834095      74 device_compiler.h:188] Compiled cluster using XLA!  This line is logged at most once for the lifetime of the process.\n"
          ]
        },
        {
          "name": "stdout",
          "output_type": "stream",
          "text": [
            "\u001b[1m399/399\u001b[0m \u001b[32m━━━━━━━━━━━━━━━━━━━━\u001b[0m\u001b[37m\u001b[0m \u001b[1m121s\u001b[0m 209ms/step - accuracy: 0.2872 - loss: 3.7199 - val_accuracy: 0.7864 - val_loss: 0.8943 - learning_rate: 1.0000e-04\n",
            "Epoch 2/12\n",
            "\u001b[1m399/399\u001b[0m \u001b[32m━━━━━━━━━━━━━━━━━━━━\u001b[0m\u001b[37m\u001b[0m \u001b[1m75s\u001b[0m 181ms/step - accuracy: 0.7457 - loss: 0.9941 - val_accuracy: 0.8475 - val_loss: 0.6057 - learning_rate: 1.0000e-04\n",
            "Epoch 3/12\n",
            "\u001b[1m399/399\u001b[0m \u001b[32m━━━━━━━━━━━━━━━━━━━━\u001b[0m\u001b[37m\u001b[0m \u001b[1m74s\u001b[0m 179ms/step - accuracy: 0.8795 - loss: 0.4507 - val_accuracy: 0.8656 - val_loss: 0.5718 - learning_rate: 1.0000e-04\n",
            "Epoch 4/12\n",
            "\u001b[1m399/399\u001b[0m \u001b[32m━━━━━━━━━━━━━━━━━━━━\u001b[0m\u001b[37m\u001b[0m \u001b[1m75s\u001b[0m 181ms/step - accuracy: 0.9365 - loss: 0.2395 - val_accuracy: 0.8739 - val_loss: 0.5234 - learning_rate: 1.0000e-04\n",
            "Epoch 5/12\n",
            "\u001b[1m399/399\u001b[0m \u001b[32m━━━━━━━━━━━━━━━━━━━━\u001b[0m\u001b[37m\u001b[0m \u001b[1m75s\u001b[0m 180ms/step - accuracy: 0.9629 - loss: 0.1392 - val_accuracy: 0.8780 - val_loss: 0.5274 - learning_rate: 1.0000e-04\n",
            "Epoch 6/12\n",
            "\u001b[1m399/399\u001b[0m \u001b[32m━━━━━━━━━━━━━━━━━━━━\u001b[0m\u001b[37m\u001b[0m \u001b[1m75s\u001b[0m 180ms/step - accuracy: 0.9723 - loss: 0.0978 - val_accuracy: 0.8755 - val_loss: 0.5761 - learning_rate: 1.0000e-04\n",
            "Epoch 7/12\n",
            "\u001b[1m399/399\u001b[0m \u001b[32m━━━━━━━━━━━━━━━━━━━━\u001b[0m\u001b[37m\u001b[0m \u001b[1m75s\u001b[0m 181ms/step - accuracy: 0.9858 - loss: 0.0548 - val_accuracy: 0.8909 - val_loss: 0.4945 - learning_rate: 2.0000e-05\n",
            "Epoch 8/12\n",
            "\u001b[1m399/399\u001b[0m \u001b[32m━━━━━━━━━━━━━━━━━━━━\u001b[0m\u001b[37m\u001b[0m \u001b[1m75s\u001b[0m 180ms/step - accuracy: 0.9926 - loss: 0.0330 - val_accuracy: 0.8914 - val_loss: 0.4920 - learning_rate: 2.0000e-05\n",
            "Epoch 9/12\n",
            "\u001b[1m399/399\u001b[0m \u001b[32m━━━━━━━━━━━━━━━━━━━━\u001b[0m\u001b[37m\u001b[0m \u001b[1m75s\u001b[0m 180ms/step - accuracy: 0.9960 - loss: 0.0238 - val_accuracy: 0.8968 - val_loss: 0.4969 - learning_rate: 2.0000e-05\n",
            "Epoch 10/12\n",
            "\u001b[1m399/399\u001b[0m \u001b[32m━━━━━━━━━━━━━━━━━━━━\u001b[0m\u001b[37m\u001b[0m \u001b[1m74s\u001b[0m 179ms/step - accuracy: 0.9973 - loss: 0.0185 - val_accuracy: 0.8984 - val_loss: 0.4916 - learning_rate: 2.0000e-05\n",
            "Epoch 11/12\n",
            "\u001b[1m399/399\u001b[0m \u001b[32m━━━━━━━━━━━━━━━━━━━━\u001b[0m\u001b[37m\u001b[0m \u001b[1m74s\u001b[0m 179ms/step - accuracy: 0.9983 - loss: 0.0118 - val_accuracy: 0.8957 - val_loss: 0.4876 - learning_rate: 2.0000e-05\n",
            "Epoch 12/12\n",
            "\u001b[1m399/399\u001b[0m \u001b[32m━━━━━━━━━━━━━━━━━━━━\u001b[0m\u001b[37m\u001b[0m \u001b[1m74s\u001b[0m 180ms/step - accuracy: 0.9985 - loss: 0.0107 - val_accuracy: 0.9001 - val_loss: 0.4873 - learning_rate: 2.0000e-05\n"
          ]
        }
      ],
      "source": [
        "EPOCHS = 12\n",
        "\n",
        "callbacks = [\n",
        "    tf.keras.callbacks.EarlyStopping(\n",
        "        monitor='val_loss',\n",
        "        patience=3,\n",
        "        restore_best_weights=True\n",
        "    ),\n",
        "    tf.keras.callbacks.ReduceLROnPlateau(\n",
        "        monitor='val_loss',\n",
        "        factor=0.2,\n",
        "        patience=2,\n",
        "        min_lr=1e-6\n",
        "    )\n",
        "]\n",
        "\n",
        "history = resnet_model.fit(\n",
        "    train_dataset,\n",
        "    epochs=EPOCHS,\n",
        "    validation_data=validation_dataset,\n",
        "    callbacks=callbacks\n",
        ")"
      ],
      "id": "C23eKcPxXFS6"
    },
    {
      "cell_type": "code",
      "execution_count": null,
      "metadata": {
        "execution": {
          "iopub.execute_input": "2025-07-30T23:58:36.546377Z",
          "iopub.status.busy": "2025-07-30T23:58:36.545540Z",
          "iopub.status.idle": "2025-07-30T23:58:37.062186Z",
          "shell.execute_reply": "2025-07-30T23:58:37.061345Z"
        },
        "papermill": {
          "duration": 0.747418,
          "end_time": "2025-07-30T23:58:37.063479",
          "exception": false,
          "start_time": "2025-07-30T23:58:36.316061",
          "status": "completed"
        },
        "tags": [],
        "id": "p6RN3fHFXFS6",
        "outputId": "5ad05673-9090-4d82-f47a-ce939f2a897d"
      },
      "outputs": [
        {
          "data": {
            "image/png": "[encoded data removed]",
            "text/plain": [
              "<Figure size 1200x400 with 2 Axes>"
            ]
          },
          "metadata": {},
          "output_type": "display_data"
        }
      ],
      "source": [
        "def plot_training_history(history):\n",
        "    fig, (ax1, ax2) = plt.subplots(1, 2, figsize=(12, 4))\n",
        "\n",
        "    ax1.plot(history.history['accuracy'], label='Training')\n",
        "    ax1.plot(history.history['val_accuracy'], label='Validation')\n",
        "    ax1.set_title('Improved ResNet Model Accuracy')\n",
        "    ax1.set_xlabel('Epoch')\n",
        "    ax1.set_ylabel('Accuracy')\n",
        "    ax1.legend()\n",
        "\n",
        "    ax2.plot(history.history['loss'], label='Training')\n",
        "    ax2.plot(history.history['val_loss'], label='Validation')\n",
        "    ax2.set_title('Improved ResNet Model Loss')\n",
        "    ax2.set_xlabel('Epoch')\n",
        "    ax2.set_ylabel('Loss')\n",
        "    ax2.legend()\n",
        "\n",
        "    plt.tight_layout()\n",
        "    plt.show()\n",
        "\n",
        "plot_training_history(history)"
      ],
      "id": "p6RN3fHFXFS6"
    },
    {
      "cell_type": "markdown",
      "source": [
        "### Test-Time Augmentation Implementation\n",
        "The second model introduced sophisticated TTA to improve inference\n",
        "accuracy by averaging predictions from original and augmented images."
      ],
      "metadata": {
        "id": "QZZoidg8ZMhD"
      },
      "id": "QZZoidg8ZMhD"
    },
    {
      "cell_type": "code",
      "execution_count": null,
      "metadata": {
        "execution": {
          "iopub.execute_input": "2025-07-30T23:58:37.513499Z",
          "iopub.status.busy": "2025-07-30T23:58:37.513216Z",
          "iopub.status.idle": "2025-07-30T23:58:37.521673Z",
          "shell.execute_reply": "2025-07-30T23:58:37.521049Z"
        },
        "papermill": {
          "duration": 0.232219,
          "end_time": "2025-07-30T23:58:37.523021",
          "exception": false,
          "start_time": "2025-07-30T23:58:37.290802",
          "status": "completed"
        },
        "tags": [],
        "id": "qHQOMJ1bXFS7"
      },
      "outputs": [],
      "source": [
        "def get_predictions_with_memory_safe_tta():\n",
        "\n",
        "    image_ids = []\n",
        "    final_predictions = None\n",
        "\n",
        "    # First pass: Original predictions\n",
        "    print(\"Pass 1/2: Original predictions\")\n",
        "    for batch_images, batch_image_names in test_dataset:\n",
        "        pred = resnet_model.predict(batch_images, verbose=0)\n",
        "\n",
        "        if final_predictions is None:\n",
        "            final_predictions = pred\n",
        "        else:\n",
        "            final_predictions = np.concatenate([final_predictions, pred], axis=0)\n",
        "\n",
        "        # Store image IDs only once\n",
        "        if len(image_ids) == 0:\n",
        "            batch_image_names = batch_image_names.numpy()\n",
        "            image_ids.extend([name.decode('utf-8') for name in batch_image_names])\n",
        "        elif len(image_ids) < len(final_predictions):\n",
        "            batch_image_names = batch_image_names.numpy()\n",
        "            image_ids.extend([name.decode('utf-8') for name in batch_image_names])\n",
        "\n",
        "    # Second pass: Flipped predictions\n",
        "    print(\"Pass 2/2: Flipped predictions\")\n",
        "    flipped_predictions = None\n",
        "\n",
        "    for batch_images, batch_image_names in test_dataset:\n",
        "        flipped_images = tf.image.flip_left_right(batch_images)\n",
        "        pred = resnet_model.predict(flipped_images, verbose=0)\n",
        "\n",
        "        if flipped_predictions is None:\n",
        "            flipped_predictions = pred\n",
        "        else:\n",
        "            flipped_predictions = np.concatenate([flipped_predictions, pred], axis=0)\n",
        "\n",
        "    # Average the two predictions\n",
        "    averaged_predictions = (final_predictions + flipped_predictions) / 2.0\n",
        "    pred_labels = np.argmax(averaged_predictions, axis=1)\n",
        "\n",
        "    return image_ids, pred_labels\n",
        "\n",
        "# If TTA fails, fall back to original method\n",
        "def get_predictions_fallback():\n",
        "    print(\"Using fallback prediction method...\")\n",
        "    image_ids = []\n",
        "    predictions = []\n",
        "\n",
        "    for batch_images, batch_image_names in test_dataset:\n",
        "        pred = resnet_model.predict(batch_images, verbose=0)\n",
        "        pred_labels = tf.argmax(pred, axis=1)\n",
        "\n",
        "        batch_image_names = batch_image_names.numpy()\n",
        "        pred_labels = pred_labels.numpy()\n",
        "\n",
        "        image_ids.extend([name.decode('utf-8') for name in batch_image_names])\n",
        "        predictions.extend(pred_labels)\n",
        "\n",
        "    return image_ids, predictions"
      ],
      "id": "qHQOMJ1bXFS7"
    },
    {
      "cell_type": "code",
      "execution_count": null,
      "metadata": {
        "execution": {
          "iopub.execute_input": "2025-07-30T23:58:38.013870Z",
          "iopub.status.busy": "2025-07-30T23:58:38.013568Z",
          "iopub.status.idle": "2025-07-31T00:00:12.688838Z",
          "shell.execute_reply": "2025-07-31T00:00:12.688041Z"
        },
        "papermill": {
          "duration": 95.171874,
          "end_time": "2025-07-31T00:00:12.913827",
          "exception": false,
          "start_time": "2025-07-30T23:58:37.741953",
          "status": "completed"
        },
        "tags": [],
        "id": "GfpWSfvTXFS7",
        "outputId": "f6652237-d9d5-48c8-b6b6-14d13284497c"
      },
      "outputs": [
        {
          "name": "stdout",
          "output_type": "stream",
          "text": [
            "Pass 1/2: Original predictions\n",
            "Pass 2/2: Flipped predictions\n",
            "TTA completed successfully!\n",
            "Submission created with 7382 predictions\n",
            "Execution time:  1045.7363955974579 secs\n",
            "Best validation accuracy: 0.9001\n"
          ]
        }
      ],
      "source": [
        "def create_submission():\n",
        "    try:\n",
        "        image_ids, predictions = get_predictions_with_memory_safe_tta()\n",
        "        print(\"TTA completed successfully!\")\n",
        "    except Exception as e:\n",
        "        print(f\"TTA failed with error: {e}\")\n",
        "        print(\"Falling back to single prediction...\")\n",
        "        image_ids, predictions = get_predictions_fallback()\n",
        "\n",
        "    submission_df = pd.DataFrame({\n",
        "        'id': image_ids,\n",
        "        'label': predictions\n",
        "    })\n",
        "\n",
        "    submission_df.to_csv('submission.csv', index=False)\n",
        "    print(f\"Submission created with {len(submission_df)} predictions\")\n",
        "\n",
        "create_submission()\n",
        "\n",
        "end_time = time.time()\n",
        "print(\"Execution time: \", end_time - start_time, \"secs\")\n",
        "\n",
        "# Print final results\n",
        "if 'history' in locals():\n",
        "    best_val_acc = max(history.history['val_accuracy'])\n",
        "    print(f\"Best validation accuracy: {best_val_acc:.4f}\")"
      ],
      "id": "GfpWSfvTXFS7"
    },
    {
      "cell_type": "markdown",
      "source": [
        "### Model 2 Summary\n",
        "\n",
        "**What Worked:**\n",
        "- Batch normalization significantly improved training\n",
        "stability and convergence\n",
        "- Test-time augmentation provided consistent\n",
        "performance boost (+0.5-1% accuracy)\n",
        "- Extended training epochs allowed\n",
        "for better fine-tuning of transferred features\n",
        "- Enhanced data\n",
        "augmentation improved model generalization\n",
        "- Better memory management\n",
        "enabled more stable training\n",
        "\n",
        "**What Didn’t Work:**\n",
        "- Still limited to single model architecture\n",
        "-\n",
        "Could benefit from more diverse augmentation strategies\n",
        "- Learning rate\n",
        "schedule could be more aggressive\n",
        "- No ensemble methods to combine\n",
        "multiple model predictions\n",
        "\n",
        "**Performance Metrics:**\n",
        "- Final Score: 0.89754 (improvement of\n",
        "+0.00597)\n",
        "- Best validation accuracy: 90.01% - Training time:\n",
        "approximately 812 seconds\n",
        "- Successfully implemented TTA with\n",
        "memory-safe approach\n",
        "\n",
        "**Key Insights:**\n",
        "- Batch normalization after global pooling was crucial\n",
        "for performance\n",
        "- TTA consistently provided 0.5-1% accuracy\n",
        "improvement\n",
        "- The model showed excellent convergence with minimal\n",
        "overfitting\n",
        "- Fine-tuning strategy proved effective for transfer\n",
        "learning\n",
        "\n",
        "------------------------------------------------------------------------"
      ],
      "metadata": {
        "id": "cahz75JPZeIK"
      },
      "id": "cahz75JPZeIK"
    },
    {
      "cell_type": "markdown",
      "source": [
        "\n",
        "## Model 3: EfficientNet-ResNet Ensemble\n",
        "\n",
        "**Performance**: 0.89537 Score \\| [Kaggle Notebook\n",
        "Link](https://www.kaggle.com/code/elacha/efficientnet-resnet-combo?scriptVersionId=253569277)\n",
        "\n",
        "The third iteration explored ensemble methods by combining ResNet50 with\n",
        "EfficientNetB0, leveraging the strengths of both architectures for\n",
        "improved generalization and robustness.\n",
        "\n",
        "### Key Ensemble Architecture Decisions:\n",
        "\n",
        "-   **Dual Architecture Strategy**: Combined ResNet50 and EfficientNetB0\n",
        "    for diverse feature extraction\n",
        "-   **Memory-Efficient Training**: Sequential training to manage GPU\n",
        "    memory constraints\n",
        "-   **Weighted Ensemble**: ResNet (60%) + EfficientNet (40%) based on\n",
        "    individual performance\n",
        "-   **Architecture-Specific Optimization**: Different learning rates and\n",
        "    training strategies per model\n",
        "-   **Reduced Batch Size**: Optimized to 16 for memory management with\n",
        "    dual models\n",
        "-   **Enhanced Preprocessing**: Model-specific preprocessing for optimal\n",
        "    performance\n",
        "-   **Robust Fallback Strategy**: Single ResNet training if ensemble\n",
        "    fails due to memory constraints\n",
        "-   **Comprehensive Evaluation**: Individual model assessment before\n",
        "    ensemble combination\n",
        "-   **Advanced Memory Management**: Explicit model deletion and garbage\n",
        "    collection"
      ],
      "metadata": {
        "id": "Yvbeg3A0Z731"
      },
      "id": "Yvbeg3A0Z731"
    },
    {
      "cell_type": "markdown",
      "source": [
        "### Advanced Data Augmentation"
      ],
      "metadata": {
        "id": "6qW4pwNSacic"
      },
      "id": "6qW4pwNSacic"
    },
    {
      "cell_type": "code",
      "execution_count": null,
      "id": "6f5157aa",
      "metadata": {
        "execution": {
          "iopub.execute_input": "2025-07-31T21:51:50.241139Z",
          "iopub.status.busy": "2025-07-31T21:51:50.240930Z",
          "iopub.status.idle": "2025-07-31T21:51:50.245003Z",
          "shell.execute_reply": "2025-07-31T21:51:50.244305Z"
        },
        "papermill": {
          "duration": 0.008621,
          "end_time": "2025-07-31T21:51:50.246294",
          "exception": false,
          "start_time": "2025-07-31T21:51:50.237673",
          "status": "completed"
        },
        "tags": [],
        "id": "6f5157aa"
      },
      "outputs": [],
      "source": [
        "def augment_image(image, label):\n",
        "    image = tf.image.random_flip_left_right(image)\n",
        "    image = tf.image.random_brightness(image, 0.1)\n",
        "    image = tf.image.random_contrast(image, 0.9, 1.1)\n",
        "    image = tf.image.random_saturation(image, 0.9, 1.1)\n",
        "    return image, label"
      ]
    },
    {
      "cell_type": "code",
      "execution_count": null,
      "id": "07301c8c",
      "metadata": {
        "execution": {
          "iopub.execute_input": "2025-07-31T21:51:50.252864Z",
          "iopub.status.busy": "2025-07-31T21:51:50.252502Z",
          "iopub.status.idle": "2025-07-31T21:51:51.785537Z",
          "shell.execute_reply": "2025-07-31T21:51:51.784954Z"
        },
        "papermill": {
          "duration": 1.537831,
          "end_time": "2025-07-31T21:51:51.786974",
          "exception": false,
          "start_time": "2025-07-31T21:51:50.249143",
          "status": "completed"
        },
        "tags": [],
        "id": "07301c8c"
      },
      "outputs": [],
      "source": [
        "tf.random.set_seed(42)\n",
        "train_dataset = train_dataset.map(augment_image, num_parallel_calls=AUTO)\n",
        "train_dataset = train_dataset.shuffle(1000, seed=42, reshuffle_each_iteration=False)\n",
        "validation_dataset = validation_dataset.shuffle(1000, seed=42, reshuffle_each_iteration=False)\n",
        "\n",
        "train_dataset = train_dataset.batch(BATCH_SIZE).prefetch(AUTO)\n",
        "validation_dataset = validation_dataset.batch(BATCH_SIZE).prefetch(AUTO)\n",
        "test_dataset = test_dataset.batch(BATCH_SIZE).prefetch(AUTO)"
      ]
    },
    {
      "cell_type": "markdown",
      "source": [
        "### Enhanced ResNet Architecture"
      ],
      "metadata": {
        "id": "9u6rMnObaM5Z"
      },
      "id": "9u6rMnObaM5Z"
    },
    {
      "cell_type": "code",
      "execution_count": null,
      "id": "0fefae7c",
      "metadata": {
        "execution": {
          "iopub.execute_input": "2025-07-31T21:51:51.793520Z",
          "iopub.status.busy": "2025-07-31T21:51:51.793294Z",
          "iopub.status.idle": "2025-07-31T21:51:51.798771Z",
          "shell.execute_reply": "2025-07-31T21:51:51.798117Z"
        },
        "papermill": {
          "duration": 0.009774,
          "end_time": "2025-07-31T21:51:51.799763",
          "exception": false,
          "start_time": "2025-07-31T21:51:51.789989",
          "status": "completed"
        },
        "tags": [],
        "id": "0fefae7c"
      },
      "outputs": [],
      "source": [
        "def create_resnet_model():\n",
        "    base_model = tf.keras.applications.ResNet50(\n",
        "        include_top=False,\n",
        "        weights='imagenet',\n",
        "        input_shape=(224, 224, 3),\n",
        "        pooling=None\n",
        "    )\n",
        "\n",
        "    # Fine-tune top layers\n",
        "    base_model.trainable = True\n",
        "    fine_tune_at = int(0.8 * len(base_model.layers))\n",
        "    for layer in base_model.layers[:fine_tune_at]:\n",
        "        layer.trainable = False\n",
        "\n",
        "    model = tf.keras.Sequential([\n",
        "        base_model,\n",
        "        tf.keras.layers.GlobalAveragePooling2D(),\n",
        "        tf.keras.layers.BatchNormalization(),\n",
        "        tf.keras.layers.Dropout(0.5),\n",
        "        tf.keras.layers.Dense(512, activation='relu'),\n",
        "        tf.keras.layers.Dropout(0.3),\n",
        "        tf.keras.layers.Dense(NUM_CLASSES, activation='softmax')\n",
        "    ])\n",
        "\n",
        "    return model"
      ]
    },
    {
      "cell_type": "markdown",
      "source": [
        "### EfficientNet Model Architecture"
      ],
      "metadata": {
        "id": "ywUsop6gaJ2l"
      },
      "id": "ywUsop6gaJ2l"
    },
    {
      "cell_type": "code",
      "execution_count": null,
      "id": "06d4a0ed",
      "metadata": {
        "execution": {
          "iopub.execute_input": "2025-07-31T21:51:51.805825Z",
          "iopub.status.busy": "2025-07-31T21:51:51.805623Z",
          "iopub.status.idle": "2025-07-31T21:51:51.810358Z",
          "shell.execute_reply": "2025-07-31T21:51:51.809755Z"
        },
        "papermill": {
          "duration": 0.00886,
          "end_time": "2025-07-31T21:51:51.811339",
          "exception": false,
          "start_time": "2025-07-31T21:51:51.802479",
          "status": "completed"
        },
        "tags": [],
        "id": "06d4a0ed"
      },
      "outputs": [],
      "source": [
        "def create_efficientnet_model():\n",
        "    base_model = tf.keras.applications.EfficientNetB0(\n",
        "        include_top=False,\n",
        "        weights='imagenet',\n",
        "        input_shape=(224, 224, 3),\n",
        "        pooling='avg'\n",
        "    )\n",
        "\n",
        "    # Fine-tune top layers\n",
        "    base_model.trainable = True\n",
        "    tuned = int(len(base_model.layers) * 0.8)\n",
        "    for layer in base_model.layers[:tuned]:\n",
        "        layer.trainable = False\n",
        "\n",
        "    model = tf.keras.Sequential([\n",
        "        base_model,\n",
        "        tf.keras.layers.Dropout(0.3),\n",
        "        tf.keras.layers.Dense(256, activation='relu'),\n",
        "        tf.keras.layers.Dropout(0.2),\n",
        "        tf.keras.layers.Dense(NUM_CLASSES, activation='softmax')\n",
        "    ])\n",
        "\n",
        "    return model"
      ]
    },
    {
      "cell_type": "markdown",
      "source": [
        "### Memory-Efficient Training Strategy"
      ],
      "metadata": {
        "id": "mc59_sLzaQ-V"
      },
      "id": "mc59_sLzaQ-V"
    },
    {
      "cell_type": "code",
      "execution_count": null,
      "id": "cd0c6fd1",
      "metadata": {
        "execution": {
          "iopub.execute_input": "2025-07-31T21:51:51.817515Z",
          "iopub.status.busy": "2025-07-31T21:51:51.817318Z",
          "iopub.status.idle": "2025-07-31T21:51:51.822548Z",
          "shell.execute_reply": "2025-07-31T21:51:51.822053Z"
        },
        "papermill": {
          "duration": 0.009505,
          "end_time": "2025-07-31T21:51:51.823556",
          "exception": false,
          "start_time": "2025-07-31T21:51:51.814051",
          "status": "completed"
        },
        "tags": [],
        "id": "cd0c6fd1"
      },
      "outputs": [],
      "source": [
        "def train_model(model_func, model_name, epochs=12):\n",
        "\n",
        "    # Clear memory before training\n",
        "    tf.keras.backend.clear_session()\n",
        "    gc.collect()\n",
        "\n",
        "    model = model_func()\n",
        "\n",
        "    # Different optimizers based on model type\n",
        "    if 'ResNet' in model_name:\n",
        "        optimizer = tf.keras.optimizers.Adam(learning_rate=1e-4)\n",
        "    else:  # EfficientNet\n",
        "        optimizer = tf.keras.optimizers.Adam(learning_rate=5e-4)\n",
        "\n",
        "    model.compile(\n",
        "        optimizer=optimizer,\n",
        "        loss='sparse_categorical_crossentropy',\n",
        "        metrics=['accuracy']\n",
        "    )\n",
        "\n",
        "    callbacks = [\n",
        "        tf.keras.callbacks.EarlyStopping(\n",
        "            monitor='val_loss',\n",
        "            patience=3,\n",
        "            restore_best_weights=True\n",
        "        ),\n",
        "        tf.keras.callbacks.ReduceLROnPlateau(\n",
        "            monitor='val_loss',\n",
        "            factor=0.2,\n",
        "            patience=2,\n",
        "            min_lr=1e-6\n",
        "        )\n",
        "    ]\n",
        "\n",
        "    history = model.fit(\n",
        "        train_dataset,\n",
        "        epochs=epochs,\n",
        "        validation_data=validation_dataset,\n",
        "        callbacks=callbacks,\n",
        "        verbose=1\n",
        "    )\n",
        "\n",
        "    return model, history"
      ]
    },
    {
      "cell_type": "code",
      "execution_count": null,
      "id": "d31df4f4",
      "metadata": {
        "execution": {
          "iopub.execute_input": "2025-07-31T21:51:51.829872Z",
          "iopub.status.busy": "2025-07-31T21:51:51.829668Z",
          "iopub.status.idle": "2025-07-31T21:51:51.834380Z",
          "shell.execute_reply": "2025-07-31T21:51:51.833829Z"
        },
        "papermill": {
          "duration": 0.009174,
          "end_time": "2025-07-31T21:51:51.835546",
          "exception": false,
          "start_time": "2025-07-31T21:51:51.826372",
          "status": "completed"
        },
        "tags": [],
        "id": "d31df4f4"
      },
      "outputs": [],
      "source": [
        "def get_model_predictions(model, dataset):\n",
        "    predictions = []\n",
        "    image_ids = []\n",
        "\n",
        "    for batch_images, batch_image_names in dataset:\n",
        "        # Get predictions for this batch\n",
        "        pred = model.predict(batch_images, verbose=0)\n",
        "\n",
        "        if len(predictions) == 0:\n",
        "            predictions = pred\n",
        "            # Store image IDs only once\n",
        "            batch_image_names = batch_image_names.numpy()\n",
        "            image_ids.extend([name.decode('utf-8') for name in batch_image_names])\n",
        "        else:\n",
        "            predictions = np.concatenate([predictions, pred], axis=0)\n",
        "            # Only add image IDs if we haven't stored them yet\n",
        "            if len(image_ids) < len(predictions):\n",
        "                batch_image_names = batch_image_names.numpy()\n",
        "                image_ids.extend([name.decode('utf-8') for name in batch_image_names])\n",
        "\n",
        "    return predictions, image_ids"
      ]
    },
    {
      "cell_type": "markdown",
      "source": [
        "### Ensemble Prediction Strategy"
      ],
      "metadata": {
        "id": "DYBA89GyaYQe"
      },
      "id": "DYBA89GyaYQe"
    },
    {
      "cell_type": "code",
      "execution_count": null,
      "id": "b08fe8b5",
      "metadata": {
        "execution": {
          "iopub.execute_input": "2025-07-31T21:51:51.842079Z",
          "iopub.status.busy": "2025-07-31T21:51:51.841848Z",
          "iopub.status.idle": "2025-07-31T22:12:43.164219Z",
          "shell.execute_reply": "2025-07-31T22:12:43.163508Z"
        },
        "papermill": {
          "duration": 1251.32711,
          "end_time": "2025-07-31T22:12:43.165491",
          "exception": false,
          "start_time": "2025-07-31T21:51:51.838381",
          "status": "completed"
        },
        "tags": [],
        "id": "b08fe8b5",
        "outputId": "a30ae889-cdfd-4ab0-f998-8c3bbde0b50a"
      },
      "outputs": [
        {
          "name": "stdout",
          "output_type": "stream",
          "text": [
            "\n",
            "==================================================\n",
            "Training ResNet50\n",
            "==================================================\n",
            "Downloading data from https://storage.googleapis.com/tensorflow/keras-applications/resnet/resnet50_weights_tf_dim_ordering_tf_kernels_notop.h5\n",
            "\u001b[1m94765736/94765736\u001b[0m \u001b[32m━━━━━━━━━━━━━━━━━━━━\u001b[0m\u001b[37m\u001b[0m \u001b[1m1s\u001b[0m 0us/step\n",
            "Epoch 1/12\n"
          ]
        },
        {
          "name": "stderr",
          "output_type": "stream",
          "text": [
            "WARNING: All log messages before absl::InitializeLog() is called are written to STDERR\n",
            "I0000 00:00:1753998734.644629      76 service.cc:148] XLA service 0x79ffec0679d0 initialized for platform CUDA (this does not guarantee that XLA will be used). Devices:\n",
            "I0000 00:00:1753998734.645811      76 service.cc:156]   StreamExecutor device (0): Tesla T4, Compute Capability 7.5\n",
            "I0000 00:00:1753998734.645829      76 service.cc:156]   StreamExecutor device (1): Tesla T4, Compute Capability 7.5\n",
            "I0000 00:00:1753998736.829750      76 cuda_dnn.cc:529] Loaded cuDNN version 90300\n"
          ]
        },
        {
          "name": "stdout",
          "output_type": "stream",
          "text": [
            "      1/Unknown \u001b[1m30s\u001b[0m 30s/step - accuracy: 0.0000e+00 - loss: 5.6284"
          ]
        },
        {
          "name": "stderr",
          "output_type": "stream",
          "text": [
            "I0000 00:00:1753998745.015881      76 device_compiler.h:188] Compiled cluster using XLA!  This line is logged at most once for the lifetime of the process.\n"
          ]
        },
        {
          "name": "stdout",
          "output_type": "stream",
          "text": [
            "\u001b[1m798/798\u001b[0m \u001b[32m━━━━━━━━━━━━━━━━━━━━\u001b[0m\u001b[37m\u001b[0m \u001b[1m117s\u001b[0m 109ms/step - accuracy: 0.2987 - loss: 3.5456 - val_accuracy: 0.7629 - val_loss: 0.9269 - learning_rate: 1.0000e-04\n",
            "Epoch 2/12\n",
            "\u001b[1m798/798\u001b[0m \u001b[32m━━━━━━━━━━━━━━━━━━━━\u001b[0m\u001b[37m\u001b[0m \u001b[1m77s\u001b[0m 95ms/step - accuracy: 0.7099 - loss: 1.1225 - val_accuracy: 0.8343 - val_loss: 0.6727 - learning_rate: 1.0000e-04\n",
            "Epoch 3/12\n",
            "\u001b[1m798/798\u001b[0m \u001b[32m━━━━━━━━━━━━━━━━━━━━\u001b[0m\u001b[37m\u001b[0m \u001b[1m77s\u001b[0m 95ms/step - accuracy: 0.8433 - loss: 0.5765 - val_accuracy: 0.8462 - val_loss: 0.6404 - learning_rate: 1.0000e-04\n",
            "Epoch 4/12\n",
            "\u001b[1m798/798\u001b[0m \u001b[32m━━━━━━━━━━━━━━━━━━━━\u001b[0m\u001b[37m\u001b[0m \u001b[1m77s\u001b[0m 95ms/step - accuracy: 0.9177 - loss: 0.3017 - val_accuracy: 0.8478 - val_loss: 0.6345 - learning_rate: 1.0000e-04\n",
            "Epoch 5/12\n",
            "\u001b[1m798/798\u001b[0m \u001b[32m━━━━━━━━━━━━━━━━━━━━\u001b[0m\u001b[37m\u001b[0m \u001b[1m77s\u001b[0m 95ms/step - accuracy: 0.9353 - loss: 0.2230 - val_accuracy: 0.8491 - val_loss: 0.6856 - learning_rate: 1.0000e-04\n",
            "Epoch 6/12\n",
            "\u001b[1m798/798\u001b[0m \u001b[32m━━━━━━━━━━━━━━━━━━━━\u001b[0m\u001b[37m\u001b[0m \u001b[1m77s\u001b[0m 95ms/step - accuracy: 0.9504 - loss: 0.1684 - val_accuracy: 0.8432 - val_loss: 0.7648 - learning_rate: 1.0000e-04\n",
            "Epoch 7/12\n",
            "\u001b[1m798/798\u001b[0m \u001b[32m━━━━━━━━━━━━━━━━━━━━\u001b[0m\u001b[37m\u001b[0m \u001b[1m77s\u001b[0m 95ms/step - accuracy: 0.9673 - loss: 0.1094 - val_accuracy: 0.8785 - val_loss: 0.5752 - learning_rate: 2.0000e-05\n",
            "Epoch 8/12\n",
            "\u001b[1m798/798\u001b[0m \u001b[32m━━━━━━━━━━━━━━━━━━━━\u001b[0m\u001b[37m\u001b[0m \u001b[1m77s\u001b[0m 95ms/step - accuracy: 0.9904 - loss: 0.0416 - val_accuracy: 0.8788 - val_loss: 0.5804 - learning_rate: 2.0000e-05\n",
            "Epoch 9/12\n",
            "\u001b[1m798/798\u001b[0m \u001b[32m━━━━━━━━━━━━━━━━━━━━\u001b[0m\u001b[37m\u001b[0m \u001b[1m76s\u001b[0m 95ms/step - accuracy: 0.9942 - loss: 0.0260 - val_accuracy: 0.8820 - val_loss: 0.5886 - learning_rate: 2.0000e-05\n",
            "Epoch 10/12\n",
            "\u001b[1m798/798\u001b[0m \u001b[32m━━━━━━━━━━━━━━━━━━━━\u001b[0m\u001b[37m\u001b[0m \u001b[1m76s\u001b[0m 94ms/step - accuracy: 0.9952 - loss: 0.0219 - val_accuracy: 0.8828 - val_loss: 0.5831 - learning_rate: 4.0000e-06\n",
            "\n",
            "==================================================\n",
            "Training EfficientNetB0\n",
            "==================================================\n",
            "Downloading data from https://storage.googleapis.com/keras-applications/efficientnetb0_notop.h5\n",
            "\u001b[1m16705208/16705208\u001b[0m \u001b[32m━━━━━━━━━━━━━━━━━━━━\u001b[0m\u001b[37m\u001b[0m \u001b[1m0s\u001b[0m 0us/step\n",
            "Epoch 1/12\n"
          ]
        },
        {
          "name": "stderr",
          "output_type": "stream",
          "text": [
            "E0000 00:00:1753999619.506888      74 gpu_timer.cc:82] Delay kernel timed out: measured time has sub-optimal accuracy. There may be a missing warmup execution, please investigate in Nsight Systems.\n",
            "E0000 00:00:1753999619.647835      74 gpu_timer.cc:82] Delay kernel timed out: measured time has sub-optimal accuracy. There may be a missing warmup execution, please investigate in Nsight Systems.\n"
          ]
        },
        {
          "name": "stdout",
          "output_type": "stream",
          "text": [
            "\u001b[1m798/798\u001b[0m \u001b[32m━━━━━━━━━━━━━━━━━━━━\u001b[0m\u001b[37m\u001b[0m \u001b[1m87s\u001b[0m 62ms/step - accuracy: 0.4647 - loss: 2.4220 - val_accuracy: 0.8384 - val_loss: 0.6078 - learning_rate: 5.0000e-04\n",
            "Epoch 2/12\n",
            "\u001b[1m798/798\u001b[0m \u001b[32m━━━━━━━━━━━━━━━━━━━━\u001b[0m\u001b[37m\u001b[0m \u001b[1m30s\u001b[0m 37ms/step - accuracy: 0.8324 - loss: 0.5977 - val_accuracy: 0.8720 - val_loss: 0.5207 - learning_rate: 5.0000e-04\n",
            "Epoch 3/12\n",
            "\u001b[1m798/798\u001b[0m \u001b[32m━━━━━━━━━━━━━━━━━━━━\u001b[0m\u001b[37m\u001b[0m \u001b[1m30s\u001b[0m 37ms/step - accuracy: 0.9039 - loss: 0.3286 - val_accuracy: 0.8720 - val_loss: 0.5748 - learning_rate: 5.0000e-04\n",
            "Epoch 4/12\n",
            "\u001b[1m798/798\u001b[0m \u001b[32m━━━━━━━━━━━━━━━━━━━━\u001b[0m\u001b[37m\u001b[0m \u001b[1m30s\u001b[0m 37ms/step - accuracy: 0.9354 - loss: 0.2153 - val_accuracy: 0.8817 - val_loss: 0.5563 - learning_rate: 5.0000e-04\n",
            "Epoch 5/12\n",
            "\u001b[1m798/798\u001b[0m \u001b[32m━━━━━━━━━━━━━━━━━━━━\u001b[0m\u001b[37m\u001b[0m \u001b[1m41s\u001b[0m 37ms/step - accuracy: 0.9624 - loss: 0.1297 - val_accuracy: 0.9054 - val_loss: 0.4514 - learning_rate: 1.0000e-04\n",
            "Epoch 6/12\n",
            "\u001b[1m798/798\u001b[0m \u001b[32m━━━━━━━━━━━━━━━━━━━━\u001b[0m\u001b[37m\u001b[0m \u001b[1m30s\u001b[0m 37ms/step - accuracy: 0.9843 - loss: 0.0572 - val_accuracy: 0.9100 - val_loss: 0.4591 - learning_rate: 1.0000e-04\n",
            "Epoch 7/12\n",
            "\u001b[1m798/798\u001b[0m \u001b[32m━━━━━━━━━━━━━━━━━━━━\u001b[0m\u001b[37m\u001b[0m \u001b[1m30s\u001b[0m 37ms/step - accuracy: 0.9888 - loss: 0.0430 - val_accuracy: 0.9106 - val_loss: 0.4698 - learning_rate: 1.0000e-04\n",
            "Epoch 8/12\n",
            "\u001b[1m798/798\u001b[0m \u001b[32m━━━━━━━━━━━━━━━━━━━━\u001b[0m\u001b[37m\u001b[0m \u001b[1m30s\u001b[0m 37ms/step - accuracy: 0.9922 - loss: 0.0330 - val_accuracy: 0.9122 - val_loss: 0.4630 - learning_rate: 2.0000e-05\n",
            "Getting EfficientNet predictions...\n",
            "Ensemble submission created with 7382 predictions\n",
            "\n",
            "ResNet best val accuracy: 0.8828\n",
            "EfficientNet best val accuracy: 0.9122\n",
            "\n",
            "Ensemble training completed successfully!\n",
            "\n",
            "Total execution time: 1252.89 seconds\n"
          ]
        },
        {
          "data": {
            "text/plain": [
              "0"
            ]
          },
          "execution_count": 13,
          "metadata": {},
          "output_type": "execute_result"
        }
      ],
      "source": [
        "def create_ensemble_submission():\n",
        "\n",
        "    # Train ResNet model\n",
        "    resnet_model, resnet_history = train_model(create_resnet_model, \"ResNet50\", epochs=12)\n",
        "\n",
        "    # Get ResNet predictions\n",
        "    resnet_preds, image_ids = get_model_predictions(resnet_model, test_dataset)\n",
        "\n",
        "    # Clear ResNet from memory\n",
        "    del resnet_model\n",
        "    tf.keras.backend.clear_session()\n",
        "    gc.collect()\n",
        "\n",
        "    # Train EfficientNet model\n",
        "    efficient_model, efficient_history = train_model(create_efficientnet_model, \"EfficientNetB0\", epochs=12)\n",
        "\n",
        "    # Get EfficientNet predictions\n",
        "    efficient_preds, _ = get_model_predictions(efficient_model, test_dataset)\n",
        "\n",
        "    # Clear EfficientNet from memory\n",
        "    del efficient_model\n",
        "    tf.keras.backend.clear_session()\n",
        "    gc.collect()\n",
        "\n",
        "    # Ensemble predictions (weighted average)\n",
        "    # ResNet performed better in your examples, so give it slightly more weight\n",
        "    resnet_weight = 0.6\n",
        "    efficient_weight = 0.4\n",
        "\n",
        "    ensemble_preds = (resnet_weight * resnet_preds + efficient_weight * efficient_preds)\n",
        "    pred_labels = np.argmax(ensemble_preds, axis=1)\n",
        "\n",
        "    submission_df = pd.DataFrame({\n",
        "        'id': image_ids,\n",
        "        'label': pred_labels\n",
        "    })\n",
        "\n",
        "    submission_df.to_csv('submission.csv', index=False)\n",
        "    print(f\"Ensemble submission created with {len(submission_df)} predictions\")\n",
        "\n",
        "    # Print training summaries\n",
        "    print(f\"\\nResNet best val accuracy: {max(resnet_history.history['val_accuracy']):.4f}\")\n",
        "    print(f\"EfficientNet best val accuracy: {max(efficient_history.history['val_accuracy']):.4f}\")\n",
        "\n",
        "    return submission_df\n",
        "\n",
        "# Create ensemble submission\n",
        "try:\n",
        "    submission = create_ensemble_submission()\n",
        "    print(\"\\nEnsemble training completed successfully!\")\n",
        "except Exception as e:\n",
        "    print(f\"Ensemble failed with error: {e}\")\n",
        "    print(\"Falling back to single ResNet model...\")\n",
        "\n",
        "    # Fallback: Train just ResNet if ensemble fails\n",
        "    tf.keras.backend.clear_session()\n",
        "    gc.collect()\n",
        "\n",
        "    resnet_model, resnet_history = train_model(create_resnet_model, \"ResNet50 (Fallback)\", epochs=12)\n",
        "    resnet_preds, image_ids = get_model_predictions(resnet_model, test_dataset)\n",
        "    pred_labels = np.argmax(resnet_preds, axis=1)\n",
        "\n",
        "    submission_df = pd.DataFrame({\n",
        "        'id': image_ids,\n",
        "        'label': pred_labels\n",
        "    })\n",
        "\n",
        "    submission_df.to_csv('submission.csv', index=False)\n",
        "    print(f\"Fallback submission created with {len(submission_df)} predictions\")\n",
        "    print(f\"ResNet best val accuracy: {max(resnet_history.history['val_accuracy']):.4f}\")\n",
        "\n",
        "end_time = time.time()\n",
        "print(f\"\\nTotal execution time: {end_time - start_time:.2f} seconds\")\n",
        "\n",
        "# Memory cleanup\n",
        "tf.keras.backend.clear_session()\n",
        "gc.collect()"
      ]
    },
    {
      "cell_type": "markdown",
      "source": [
        "### Model 3 Summary\n",
        "\n",
        "**What Worked:**\n",
        "- Ensemble approach provided diverse feature\n",
        "representations\n",
        "- EfficientNetB0 achieved higher individual validation\n",
        "accuracy (91.22%) than ResNet50 (88.28%)\n",
        "- Memory management strategy\n",
        "enabled training of multiple models sequentially\n",
        "- Different learning\n",
        "rates optimized each architecture’s training dynamics\n",
        "- Weighted\n",
        "ensemble balanced performance contributions effectively\n",
        "\n",
        "**What Didn’t Work:**\n",
        "- Final ensemble score (0.89537) was slightly\n",
        "lower than single enhanced ResNet (0.89754)\n",
        "- Memory constraints\n",
        "required reduced batch size, potentially limiting performance\n",
        "-\n",
        "Sequential training increased overall computation time significantly\n",
        "-\n",
        "Ensemble weights may not have been optimally tuned for the specific\n",
        "dataset\n",
        "\n",
        "**Performance Metrics:** - Final Ensemble Score: 0.89537\n",
        "- ResNet50 best\n",
        "validation accuracy: 88.28%\n",
        "- EfficientNetB0 best validation accuracy:91.22%\n",
        "- Total training time: 1252.89 seconds\n",
        "- Ensemble weight: 60%\n",
        "ResNet, 40% EfficientNet\n",
        "\n",
        "**Key Insights:**\n",
        "- EfficientNetB0 demonstrated superior validation\n",
        "performance individually\n",
        "- Ensemble methods require careful weight\n",
        "tuning for optimal performance\n",
        "- Memory management is crucial for\n",
        "multi-model training scenarios\n",
        "- Individual model strengths don’t always\n",
        "translate to ensemble improvements\n",
        "\n",
        "------------------------------------------------------------------------\n",
        "\n",
        "## Experimental Analysis and Model Comparison\n",
        "\n",
        "### Hyperparameter Tuning Strategies\n",
        "\n",
        "**Learning Rate Optimization:**\n",
        "- Model 1: Conservative 1e-4 for stable\n",
        "baseline training\n",
        "- Model 2: Maintained 1e-4 with enhanced scheduling\n",
        "-\n",
        "Model 3: Architecture-specific rates (1e-4 for ResNet, 5e-4 for\n",
        "EfficientNet)\n",
        "\n",
        "**Training Duration:**\n",
        "- Progressive increase from 10 to 12 epochs\n",
        "-\n",
        "Early stopping prevented overfitting across all models\n",
        "- Learning rate\n",
        "reduction on plateau maintained training momentum\n",
        "\n",
        "**Batch Size Considerations:**\n",
        "- Models 1-2: 32 batch size for optimal\n",
        "GPU utilization\n",
        "- Model 3: Reduced to 16 for memory management with\n",
        "ensemble training\n",
        "\n",
        "### Validation Methods and Evaluation Metrics\n",
        "\n",
        "**Validation Strategy:**\n",
        "- Consistent train/validation split across all\n",
        "experiments\n",
        "- Shuffle buffer of 2000 for proper randomization\n",
        "- Fixed\n",
        "random seed (42) for reproducible results\n",
        "\n",
        "**Evaluation Metrics:**\n",
        "- Primary: Categorical accuracy for multi-class\n",
        "classification\n",
        "- Secondary: Loss monitoring for overfitting detection\n",
        "-\n",
        "Competition: F1-score based on Kaggle leaderboard\n",
        "\n",
        "**Overfitting Mitigation:**\n",
        "- Dropout layers (0.3-0.5) in all model\n",
        "architectures - Early stopping with patience=3 to prevent overtraining\n",
        "-\n",
        "Data augmentation for improved generalization\n",
        "- Batch normalization for\n",
        "training stability\n",
        "\n",
        "### Model Performance Analysis\n",
        "\n",
        "**Why Model 2 Outperformed Others:**\n",
        "\n",
        "1.  **Optimal Architecture Balance**: Single ResNet50 with targeted\n",
        "    improvements avoided ensemble complexity\n",
        "2.  **Effective TTA**: Test-time augmentation provided consistent\n",
        "    performance boost\n",
        "3.  **Training Stability**: Batch normalization significantly improved\n",
        "    convergence\n",
        "4.  **Augmentation Strategy**: Enhanced data augmentation without\n",
        "    over-regularization\n",
        "\n",
        "**Model 3 Ensemble Limitations:**\n",
        "\n",
        "1.  **Weight Optimization**: Fixed 60/40 weighting may not have been\n",
        "    optimal\n",
        "2.  **Memory Constraints**: Reduced batch size potentially limited\n",
        "    performance\n",
        "3.  **Individual Model Variance**: Different architectures may have\n",
        "    learned similar features\n",
        "4.  **Overfitting to Validation**: Ensemble may have overfit to\n",
        "    validation set characteristics\n",
        "\n",
        "### Final Model Selection Justification\n",
        "\n",
        "**Model 2 (Enhanced ResNet50) was selected as the final model because:**\n",
        "\n",
        "1.  **Highest Competition Score**: 0.89754 outperformed both baseline\n",
        "    and ensemble\n",
        "2.  **Training Efficiency**: Single model training with reasonable\n",
        "    computation time\n",
        "3.  **Robust Performance**: Consistent validation accuracy with minimal\n",
        "    overfitting\n",
        "4.  **Implementation Simplicity**: Fewer moving parts than ensemble\n",
        "    approach\n",
        "5.  **TTA Benefits**: Demonstrated clear improvement from test-time\n",
        "    augmentation\n",
        "\n",
        "------------------------------------------------------------------------\n",
        "\n",
        "## Performance Summary\n",
        "\n",
        "| Model                        | Architecture                 | Parameters | Epochs  | Val Accuracy    | Competition Score | Training Time |\n",
        "|-------|------------|----------|--------|------------|--------------|------------|\n",
        "| Baseline ResNet50            | ResNet50 + Transfer Learning | \\~25M      | 10      | 87-88%          | 0.89157           | \\~600s        |\n",
        "| Enhanced ResNet50            | ResNet50 + BatchNorm + TTA   | \\~25M      | 12      | 90.01%          | **0.89754**       | \\~812s        |\n",
        "| ResNet-EfficientNet Ensemble | ResNet50 + EfficientNetB0    | \\~35M      | 12 each | 88.28% / 91.22% | 0.89537           | \\~1253s       |\n"
      ],
      "metadata": {
        "id": "i1RN24zNamXl"
      },
      "id": "i1RN24zNamXl"
    },
    {
      "cell_type": "code",
      "source": [],
      "metadata": {
        "id": "l2wJCslRblNg"
      },
      "id": "l2wJCslRblNg",
      "execution_count": null,
      "outputs": []
    }
  ],
  "metadata": {
    "kaggle": {
      "accelerator": "nvidiaTeslaT4",
      "dataSources": [
        {
          "databundleVersionId": 1243559,
          "sourceId": 21154,
          "sourceType": "competition"
        }
      ],
      "dockerImageVersionId": 31090,
      "isGpuEnabled": true,
      "isInternetEnabled": true,
      "language": "python",
      "sourceType": "notebook"
    },
    "kernelspec": {
      "display_name": "Python 3",
      "name": "python3"
    },
    "language_info": {
      "codemirror_mode": {
        "name": "ipython",
        "version": 3
      },
      "file_extension": ".py",
      "mimetype": "text/x-python",
      "name": "python",
      "nbconvert_exporter": "python",
      "pygments_lexer": "ipython3",
      "version": "3.11.13"
    },
    "papermill": {
      "default_parameters": {},
      "duration": 1073.426489,
      "end_time": "2025-07-31T00:00:17.038756",
      "environment_variables": {},
      "exception": null,
      "input_path": "__notebook__.ipynb",
      "output_path": "__notebook__.ipynb",
      "parameters": {},
      "start_time": "2025-07-30T23:42:23.612267",
      "version": "2.6.0"
    },
    "colab": {
      "provenance": [],
      "include_colab_link": true
    }
  },
  "nbformat": 4,
  "nbformat_minor": 5
}